{
 "cells": [
  {
   "cell_type": "code",
   "execution_count": 97,
   "metadata": {},
   "outputs": [
    {
     "name": "stdout",
     "output_type": "stream",
     "text": [
      "Requirement already satisfied: pymongo in c:\\users\\june\\anaconda3\\lib\\site-packages (3.11.0)\n"
     ]
    }
   ],
   "source": [
    "!pip install pymongo # 安裝 pymongo 函式庫"
   ]
  },
  {
   "cell_type": "code",
   "execution_count": null,
   "metadata": {},
   "outputs": [],
   "source": [
    "import base64\n",
    "from PIL import Image\n",
    "from io import BytesIO\n",
    "from pymongo import MongoClient  \n",
    "import requests\n",
    "import time"
   ]
  },
  {
   "cell_type": "code",
   "execution_count": 98,
   "metadata": {},
   "outputs": [
    {
     "data": {
      "text/plain": [
       "['admin', 'config', 'local', 'test_db']"
      ]
     },
     "execution_count": 98,
     "metadata": {},
     "output_type": "execute_result"
    }
   ],
   "source": [
    "\n",
    "client = MongoClient(host = '127.0.0.1', port = 27017)\n",
    "db = client['test_db']\n",
    "coll = db['Collections']\n",
    "mydata = {'ex_Key': '20200813_test'}\n",
    "result = coll.insert_one(mydata)\n",
    "\n",
    "client.list_database_names()"
   ]
  },
  {
   "cell_type": "code",
   "execution_count": 99,
   "metadata": {},
   "outputs": [],
   "source": [
    "# 需要先用robot3T創建mongoDB資料庫\n",
    "# 安裝pymongo \n",
    "# 引入pymongo模組裡面的 MongoClient，還記得我們在Robot3T中建立的資料庫嗎? 接下來我們就會使用 MongoClient來對資料庫進行存取\n",
    "# 透過 MongoClient我們可以定位到MongoDB服務所在的位址，並將它連接到client變數中\n",
    "# (因為MongoDB資料庫建立在本機端，所以host填入'127.0.0.1'。 Port則是我們在建立資料庫時指定的27017\n",
    "# 接下來我們要創近一個新的資料庫(db, database)，可以直接用下面的程序來定義。要注意的是，對MongoDB來說，只有當資料庫裏面有資料這個資料庫才會存在\n",
    "# 所以我們要把資料放到剛才建立的'test_db'資料庫中\n"
   ]
  },
  {
   "cell_type": "code",
   "execution_count": 100,
   "metadata": {},
   "outputs": [
    {
     "name": "stdout",
     "output_type": "stream",
     "text": [
      "OK\n",
      "http://10.17.4.132:8080/static/test.jpg\n"
     ]
    }
   ],
   "source": [
    "\n",
    "url = 'http://10.17.4.132:8080'\n",
    "index_url = url+'/index'\n",
    "r = requests.get(index_url)\n",
    "if r.status_code == requests.codes.ok:\n",
    "    print(\"OK\")\n",
    "res = r.text\n",
    "head = res.find('<img src=')\n",
    "tail = head+res[head:].find('>')\n",
    "img_url = url+res[head:tail].split('\\\"')[1]\n",
    "print(img_url)\n",
    "\n"
   ]
  },
  {
   "cell_type": "code",
   "execution_count": 101,
   "metadata": {},
   "outputs": [
    {
     "data": {
      "text/plain": [
       "'813_188'"
      ]
     },
     "execution_count": 101,
     "metadata": {},
     "output_type": "execute_result"
    }
   ],
   "source": [
    "localtime = time.localtime(time.time())\n",
    "localtime\n",
    "timestamp = str(localtime[1])+str(localtime[2])+'_'+str(localtime[3])+str(localtime[4])\n",
    "timestamp"
   ]
  },
  {
   "cell_type": "code",
   "execution_count": 102,
   "metadata": {},
   "outputs": [],
   "source": [
    "img_name = timestamp+'-picture.jpg'\n",
    "\n",
    "html = requests.get(img_url)\n",
    "with open(img_name, 'wb') as file:\n",
    "    file.write(html.content)\n",
    "    "
   ]
  },
  {
   "cell_type": "code",
   "execution_count": 103,
   "metadata": {},
   "outputs": [
    {
     "name": "stdout",
     "output_type": "stream",
     "text": [
      "5f35110b2f263421aa55592d\n"
     ]
    }
   ],
   "source": [
    "import base64\n",
    "with open(img_name, \"rb\") as imageFile:\n",
    "    strpic = base64.b64encode(imageFile.read()).decode('utf-8')\n",
    "    coll = db['Collections']\n",
    "    mydata = {'jpg_base64': strpic}\n",
    "    result = coll.insert_one(mydata)\n",
    "    print(result.inserted_id)"
   ]
  },
  {
   "cell_type": "code",
   "execution_count": 104,
   "metadata": {},
   "outputs": [],
   "source": [
    "with open(\"imageList.txt\", \"a+\") as file:\n",
    "    old = file.read() # read everything in the file\n",
    "    file.seek(0) # rewind\n",
    "    content = '%\\n'+img_name+'\\n'+str(result.inserted_id)\n",
    "    file.write(content+\"\\n\" + old) # write the new line before"
   ]
  },
  {
   "cell_type": "code",
   "execution_count": null,
   "metadata": {},
   "outputs": [],
   "source": []
  },
  {
   "cell_type": "code",
   "execution_count": 114,
   "metadata": {
    "scrolled": true
   },
   "outputs": [],
   "source": [
    "# 尋找指定ID的圖片\n",
    "coll = db['Collections']\n",
    "img_base64 = []\n",
    "for i in coll.find():\n",
    "#     print(str(i['_id']))\n",
    "#     print(type(i['_id']))\n",
    "    if str(i['_id']) == '5f35110b2f263421aa55592d':\n",
    "#         print()\n",
    "        img_base64.append(i['jpg_base64'])\n"
   ]
  },
  {
   "cell_type": "code",
   "execution_count": 119,
   "metadata": {},
   "outputs": [],
   "source": [
    "\n",
    "\n",
    "im = Image.open(BytesIO(base64.b64decode(img_base64[0])))\n",
    "im.save('mongoDB_out_image.jpg', 'JPEG')"
   ]
  }
 ],
 "metadata": {
  "kernelspec": {
   "display_name": "Python 3",
   "language": "python",
   "name": "python3"
  },
  "language_info": {
   "codemirror_mode": {
    "name": "ipython",
    "version": 3
   },
   "file_extension": ".py",
   "mimetype": "text/x-python",
   "name": "python",
   "nbconvert_exporter": "python",
   "pygments_lexer": "ipython3",
   "version": "3.8.3"
  }
 },
 "nbformat": 4,
 "nbformat_minor": 4
}
