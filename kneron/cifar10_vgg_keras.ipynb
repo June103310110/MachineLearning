{
 "cells": [
  {
   "cell_type": "markdown",
   "metadata": {},
   "source": [
    "### CNN with Image Augmentation (CIFAR10)\n",
    "images of 10 categories: airplane, automobile, bird, cat, deer, dog, frog, horse, ship and truck. In RGB, 32x32 pixels. The state of the art accuracy is 96.53 percent.\n"
   ]
  },
  {
   "cell_type": "code",
   "execution_count": 1,
   "metadata": {
    "scrolled": true
   },
   "outputs": [
    {
     "name": "stderr",
     "output_type": "stream",
     "text": [
      "Using TensorFlow backend.\n"
     ]
    }
   ],
   "source": [
    "# import tensorflow as tf\n",
    "import numpy as np                                \n",
    "# from tensorflow.examples.tutorials.mnist import input_data\n",
    "import keras as keras \n",
    "from keras.datasets import cifar10\n",
    "from keras.models import Sequential\n",
    "from keras.layers import Dense, Dropout, Flatten\n",
    "from keras.layers import Conv2D, MaxPooling2D, BatchNormalization\n",
    "from keras.optimizers import SGD, Adam\n",
    "from keras.regularizers import l2\n",
    "from keras.models import load_model\n",
    "from keras.preprocessing.image import ImageDataGenerator\n",
    "from keras.models import Model\n",
    "from keras.layers import (Dense, Dropout, Activation,\n",
    "                                     Flatten)\n",
    "from keras.applications.vgg16 import VGG16, preprocess_input"
   ]
  },
  {
   "cell_type": "code",
   "execution_count": 2,
   "metadata": {},
   "outputs": [],
   "source": [
    "#load data\n",
    "(x_train, y_train), (x_test, y_test) = cifar10.load_data()\n",
    "img_rows, img_cols , channels= 32,32,3"
   ]
  },
  {
   "cell_type": "code",
   "execution_count": 3,
   "metadata": {},
   "outputs": [],
   "source": [
    "# set up image augmentation\n",
    "datagen = ImageDataGenerator(\n",
    "    rotation_range=15,\n",
    "    horizontal_flip=True,\n",
    "    width_shift_range=0.1,\n",
    "    height_shift_range=0.1\n",
    "    #zoom_range=0.3\n",
    "    )\n",
    "datagen.fit(x_train)"
   ]
  },
  {
   "cell_type": "code",
   "execution_count": 4,
   "metadata": {},
   "outputs": [
    {
     "name": "stdout",
     "output_type": "stream",
     "text": [
      "x_train shape: (50000, 32, 32, 3)\n",
      "50000 train samples\n",
      "10000 test samples\n"
     ]
    }
   ],
   "source": [
    "#reshape into images\n",
    "x_train = x_train.reshape(x_train.shape[0], img_rows, img_cols, channels)\n",
    "x_test = x_test.reshape(x_test.shape[0], img_rows, img_cols, channels)\n",
    "input_shape = (img_rows, img_cols, 1)\n",
    "print('x_train shape:', x_train.shape)\n",
    "print(x_train.shape[0], 'train samples')\n",
    "print(x_test.shape[0], 'test samples')"
   ]
  },
  {
   "cell_type": "code",
   "execution_count": 5,
   "metadata": {},
   "outputs": [],
   "source": [
    "#convert integers to float; normalise and center the mean\n",
    "x_train=x_train.astype(\"float32\")  \n",
    "x_test=x_test.astype(\"float32\")\n",
    "\n",
    "x_train = x_train/127.5 - 1.0\n",
    "x_test = x_test/127.5 - 1.0"
   ]
  },
  {
   "cell_type": "code",
   "execution_count": 6,
   "metadata": {},
   "outputs": [],
   "source": [
    "# labels\n",
    "num_classes=10\n",
    "y_train = keras.utils.to_categorical(y_train, num_classes)\n",
    "y_test = keras.utils.to_categorical(y_test, num_classes)"
   ]
  },
  {
   "cell_type": "code",
   "execution_count": 7,
   "metadata": {},
   "outputs": [],
   "source": [
    "img_size = 32"
   ]
  },
  {
   "cell_type": "markdown",
   "metadata": {},
   "source": [
    "## 如果include_top = True，shape不能自訂"
   ]
  },
  {
   "cell_type": "code",
   "execution_count": 8,
   "metadata": {},
   "outputs": [],
   "source": [
    "vgg_model = VGG16(weights='imagenet', include_top=False,\n",
    "                  input_shape=(img_size, img_size, 3))\n",
    "# vgg_model.summary()\n",
    "\n",
    "x = Flatten()(vgg_model.output)\n",
    "x = Dense(128, activation='relu')(x)\n",
    "# x = Dropout(0.25)(x)\n",
    "outputs = Dense(num_classes, activation='softmax')(x)\n",
    "\n",
    "\n",
    "model = Model(inputs=vgg_model.inputs, outputs=outputs)\n",
    "# model.summary()"
   ]
  },
  {
   "cell_type": "code",
   "execution_count": 9,
   "metadata": {},
   "outputs": [
    {
     "name": "stdout",
     "output_type": "stream",
     "text": [
      "Train on 50000 samples, validate on 10000 samples\n",
      "Epoch 1/8\n",
      "50000/50000 [==============================] - 8s 165us/step - loss: 1.1553 - acc: 0.5939 - val_loss: 0.8904 - val_acc: 0.6870\n",
      "Epoch 2/8\n",
      "50000/50000 [==============================] - 5s 102us/step - loss: 0.7906 - acc: 0.7236 - val_loss: 0.8322 - val_acc: 0.7090\n",
      "Epoch 3/8\n",
      "50000/50000 [==============================] - 5s 102us/step - loss: 0.6837 - acc: 0.7600 - val_loss: 0.8026 - val_acc: 0.7223\n",
      "Epoch 4/8\n",
      "50000/50000 [==============================] - 5s 102us/step - loss: 0.6107 - acc: 0.7851 - val_loss: 0.7800 - val_acc: 0.7318\n",
      "Epoch 5/8\n",
      "50000/50000 [==============================] - 5s 103us/step - loss: 0.5393 - acc: 0.8087 - val_loss: 0.8341 - val_acc: 0.7208\n",
      "Epoch 6/8\n",
      "50000/50000 [==============================] - 5s 103us/step - loss: 0.4688 - acc: 0.8349 - val_loss: 0.8095 - val_acc: 0.7326\n",
      "Epoch 7/8\n",
      "50000/50000 [==============================] - 5s 104us/step - loss: 0.3989 - acc: 0.8586 - val_loss: 0.8613 - val_acc: 0.7338\n",
      "Epoch 8/8\n",
      "50000/50000 [==============================] - 5s 103us/step - loss: 0.3426 - acc: 0.8772 - val_loss: 1.0045 - val_acc: 0.7089\n"
     ]
    },
    {
     "data": {
      "text/plain": [
       "<keras.callbacks.callbacks.History at 0x7fae40078d30>"
      ]
     },
     "execution_count": 9,
     "metadata": {},
     "output_type": "execute_result"
    }
   ],
   "source": [
    "vgg_model.trainable = True\n",
    "\n",
    "trainable_layer = 3\n",
    "for layer in vgg_model.layers[:-trainable_layer]:\n",
    "    layer.trainable = False\n",
    "\n",
    "for layer in model.layers:\n",
    "    pass\n",
    "#     print(layer, layer.trainable)\n",
    "\n",
    "\n",
    "model.compile(loss='categorical_crossentropy',\n",
    "              optimizer='adam',\n",
    "              metrics=['acc'])\n",
    "model.fit(x_train, y_train, batch_size=640, epochs=8, validation_data=(x_test, y_test))"
   ]
  },
  {
   "cell_type": "code",
   "execution_count": null,
   "metadata": {},
   "outputs": [],
   "source": []
  },
  {
   "cell_type": "code",
   "execution_count": 10,
   "metadata": {},
   "outputs": [
    {
     "name": "stdout",
     "output_type": "stream",
     "text": [
      "model_1\n"
     ]
    }
   ],
   "source": [
    "model._name = 'vgg_cifar10'\n",
    "print(model.name)\n",
    "model.save('vgg_cifar10.h5') "
   ]
  },
  {
   "cell_type": "code",
   "execution_count": 11,
   "metadata": {},
   "outputs": [],
   "source": [
    "del model"
   ]
  },
  {
   "cell_type": "code",
   "execution_count": null,
   "metadata": {},
   "outputs": [],
   "source": []
  }
 ],
 "metadata": {
  "anaconda-cloud": {},
  "kernelspec": {
   "display_name": "Python 3",
   "language": "python",
   "name": "python3"
  },
  "language_info": {
   "codemirror_mode": {
    "name": "ipython",
    "version": 3
   },
   "file_extension": ".py",
   "mimetype": "text/x-python",
   "name": "python",
   "nbconvert_exporter": "python",
   "pygments_lexer": "ipython3",
   "version": "3.7.3"
  }
 },
 "nbformat": 4,
 "nbformat_minor": 4
}
