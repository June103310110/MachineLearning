{
 "cells": [
  {
   "cell_type": "code",
   "execution_count": 1,
   "metadata": {},
   "outputs": [],
   "source": [
    "import pandas as pd\n",
    "import numpy as np"
   ]
  },
  {
   "cell_type": "code",
   "execution_count": 2,
   "metadata": {},
   "outputs": [
    {
     "data": {
      "text/plain": [
       "48895"
      ]
     },
     "execution_count": 2,
     "metadata": {},
     "output_type": "execute_result"
    }
   ],
   "source": [
    "df = pd.read_csv('./dataset/AB_NYC_2019.csv')\n",
    "len(df)"
   ]
  },
  {
   "cell_type": "code",
   "execution_count": 3,
   "metadata": {},
   "outputs": [
    {
     "data": {
      "text/plain": [
       "16"
      ]
     },
     "execution_count": 3,
     "metadata": {},
     "output_type": "execute_result"
    }
   ],
   "source": [
    "len(df.columns)"
   ]
  },
  {
   "cell_type": "code",
   "execution_count": 4,
   "metadata": {},
   "outputs": [],
   "source": [
    "df.drop(['id', 'calculated_host_listings_count', 'availability_365'], axis = 1, inplace = True)"
   ]
  },
  {
   "cell_type": "code",
   "execution_count": 5,
   "metadata": {},
   "outputs": [],
   "source": [
    "df.to_csv('./dataset/refine_booking_NYC.csv')\n"
   ]
  },
  {
   "cell_type": "code",
   "execution_count": 6,
   "metadata": {},
   "outputs": [],
   "source": [
    "from sklearn.preprocessing import StandardScaler\n",
    "scaler = StandardScaler()\n",
    "\n",
    "a = df['price'].values.reshape(-1, 1) \n",
    "\n",
    "df.loc[:,'price'] = scaler.fit_transform(a)\n"
   ]
  },
  {
   "cell_type": "code",
   "execution_count": 7,
   "metadata": {},
   "outputs": [],
   "source": [
    "from sklearn.utils import shuffle\n",
    "df_shuffle = shuffle(df)"
   ]
  },
  {
   "cell_type": "code",
   "execution_count": 8,
   "metadata": {},
   "outputs": [
    {
     "name": "stdout",
     "output_type": "stream",
     "text": [
      "48895\n"
     ]
    }
   ],
   "source": [
    "print(len(df_shuffle))\n",
    "num = 38000\n",
    "df_tr = df_shuffle[:num] \n",
    "df_te = df_shuffle[num:]"
   ]
  },
  {
   "cell_type": "code",
   "execution_count": 9,
   "metadata": {},
   "outputs": [],
   "source": [
    "df_tr.to_csv('./dataset/train.csv', index=False)\n",
    "df_te.to_csv('./dataset/test.csv', index=False)"
   ]
  },
  {
   "cell_type": "raw",
   "metadata": {},
   "source": [
    "# ============\n",
    "# 查詢為什麼不能label_enc\n",
    "\n",
    "# z = df_shuffle['name'].values\n",
    "\n",
    "# for i in range(len(z)):\n",
    "#     if isinstance(z[i],str):\n",
    "#         pass\n",
    "#     else:\n",
    "#         print(z[i])\n",
    "#         print(i)"
   ]
  },
  {
   "cell_type": "markdown",
   "metadata": {},
   "source": [
    "## 使用train.csv建立baseline"
   ]
  },
  {
   "cell_type": "code",
   "execution_count": 10,
   "metadata": {},
   "outputs": [
    {
     "data": {
      "text/plain": [
       "38000"
      ]
     },
     "execution_count": 10,
     "metadata": {},
     "output_type": "execute_result"
    }
   ],
   "source": [
    "df = pd.read_csv('./dataset/train.csv')\n",
    "len(df)"
   ]
  },
  {
   "cell_type": "code",
   "execution_count": 11,
   "metadata": {},
   "outputs": [
    {
     "data": {
      "text/html": [
       "<div>\n",
       "<style scoped>\n",
       "    .dataframe tbody tr th:only-of-type {\n",
       "        vertical-align: middle;\n",
       "    }\n",
       "\n",
       "    .dataframe tbody tr th {\n",
       "        vertical-align: top;\n",
       "    }\n",
       "\n",
       "    .dataframe thead th {\n",
       "        text-align: right;\n",
       "    }\n",
       "</style>\n",
       "<table border=\"1\" class=\"dataframe\">\n",
       "  <thead>\n",
       "    <tr style=\"text-align: right;\">\n",
       "      <th></th>\n",
       "      <th>name</th>\n",
       "      <th>host_id</th>\n",
       "      <th>host_name</th>\n",
       "      <th>neighbourhood_group</th>\n",
       "      <th>neighbourhood</th>\n",
       "      <th>latitude</th>\n",
       "      <th>longitude</th>\n",
       "      <th>room_type</th>\n",
       "      <th>price</th>\n",
       "      <th>minimum_nights</th>\n",
       "      <th>number_of_reviews</th>\n",
       "      <th>last_review</th>\n",
       "      <th>reviews_per_month</th>\n",
       "    </tr>\n",
       "  </thead>\n",
       "  <tbody>\n",
       "    <tr>\n",
       "      <th>0</th>\n",
       "      <td>Dekalb Stop Flat</td>\n",
       "      <td>25545946</td>\n",
       "      <td>Tyler</td>\n",
       "      <td>Queens</td>\n",
       "      <td>Ridgewood</td>\n",
       "      <td>40.70772</td>\n",
       "      <td>-73.91180</td>\n",
       "      <td>Private room</td>\n",
       "      <td>-0.302811</td>\n",
       "      <td>2</td>\n",
       "      <td>0</td>\n",
       "      <td>NaN</td>\n",
       "      <td>NaN</td>\n",
       "    </tr>\n",
       "    <tr>\n",
       "      <th>1</th>\n",
       "      <td>Amazing apartment Times Square</td>\n",
       "      <td>265068881</td>\n",
       "      <td>Omer</td>\n",
       "      <td>Manhattan</td>\n",
       "      <td>Hell's Kitchen</td>\n",
       "      <td>40.76350</td>\n",
       "      <td>-73.98780</td>\n",
       "      <td>Entire home/apt</td>\n",
       "      <td>-0.032149</td>\n",
       "      <td>4</td>\n",
       "      <td>2</td>\n",
       "      <td>2019-06-26</td>\n",
       "      <td>2.00</td>\n",
       "    </tr>\n",
       "    <tr>\n",
       "      <th>2</th>\n",
       "      <td>Brownstone in Clinton Hill</td>\n",
       "      <td>2427529</td>\n",
       "      <td>Drew</td>\n",
       "      <td>Brooklyn</td>\n",
       "      <td>Clinton Hill</td>\n",
       "      <td>40.68409</td>\n",
       "      <td>-73.96264</td>\n",
       "      <td>Private room</td>\n",
       "      <td>-0.323632</td>\n",
       "      <td>1</td>\n",
       "      <td>0</td>\n",
       "      <td>NaN</td>\n",
       "      <td>NaN</td>\n",
       "    </tr>\n",
       "    <tr>\n",
       "      <th>3</th>\n",
       "      <td>Beautiful Apartment in the heart of Chelsea</td>\n",
       "      <td>24047286</td>\n",
       "      <td>Sabrina</td>\n",
       "      <td>Manhattan</td>\n",
       "      <td>Chelsea</td>\n",
       "      <td>40.74560</td>\n",
       "      <td>-73.99771</td>\n",
       "      <td>Entire home/apt</td>\n",
       "      <td>0.405074</td>\n",
       "      <td>4</td>\n",
       "      <td>1</td>\n",
       "      <td>2017-10-12</td>\n",
       "      <td>0.05</td>\n",
       "    </tr>\n",
       "    <tr>\n",
       "      <th>4</th>\n",
       "      <td>NY HILTON CLUB 2 BR SUITE Luxury Holidays 2019</td>\n",
       "      <td>58071546</td>\n",
       "      <td>Mary</td>\n",
       "      <td>Manhattan</td>\n",
       "      <td>Midtown</td>\n",
       "      <td>40.76151</td>\n",
       "      <td>-73.97894</td>\n",
       "      <td>Entire home/apt</td>\n",
       "      <td>1.858322</td>\n",
       "      <td>2</td>\n",
       "      <td>3</td>\n",
       "      <td>2019-01-03</td>\n",
       "      <td>0.24</td>\n",
       "    </tr>\n",
       "  </tbody>\n",
       "</table>\n",
       "</div>"
      ],
      "text/plain": [
       "                                             name    host_id host_name  \\\n",
       "0                                Dekalb Stop Flat   25545946     Tyler   \n",
       "1                  Amazing apartment Times Square  265068881      Omer   \n",
       "2                      Brownstone in Clinton Hill    2427529      Drew   \n",
       "3     Beautiful Apartment in the heart of Chelsea   24047286   Sabrina   \n",
       "4  NY HILTON CLUB 2 BR SUITE Luxury Holidays 2019   58071546      Mary   \n",
       "\n",
       "  neighbourhood_group   neighbourhood  latitude  longitude        room_type  \\\n",
       "0              Queens       Ridgewood  40.70772  -73.91180     Private room   \n",
       "1           Manhattan  Hell's Kitchen  40.76350  -73.98780  Entire home/apt   \n",
       "2            Brooklyn    Clinton Hill  40.68409  -73.96264     Private room   \n",
       "3           Manhattan         Chelsea  40.74560  -73.99771  Entire home/apt   \n",
       "4           Manhattan         Midtown  40.76151  -73.97894  Entire home/apt   \n",
       "\n",
       "      price  minimum_nights  number_of_reviews last_review  reviews_per_month  \n",
       "0 -0.302811               2                  0         NaN                NaN  \n",
       "1 -0.032149               4                  2  2019-06-26               2.00  \n",
       "2 -0.323632               1                  0         NaN                NaN  \n",
       "3  0.405074               4                  1  2017-10-12               0.05  \n",
       "4  1.858322               2                  3  2019-01-03               0.24  "
      ]
     },
     "execution_count": 11,
     "metadata": {},
     "output_type": "execute_result"
    }
   ],
   "source": [
    "df.head()"
   ]
  },
  {
   "cell_type": "code",
   "execution_count": 12,
   "metadata": {},
   "outputs": [
    {
     "data": {
      "text/plain": [
       "name                    True\n",
       "host_id                False\n",
       "host_name               True\n",
       "neighbourhood_group    False\n",
       "neighbourhood          False\n",
       "latitude               False\n",
       "longitude              False\n",
       "room_type              False\n",
       "price                  False\n",
       "minimum_nights         False\n",
       "number_of_reviews      False\n",
       "last_review             True\n",
       "reviews_per_month       True\n",
       "dtype: bool"
      ]
     },
     "execution_count": 12,
     "metadata": {},
     "output_type": "execute_result"
    }
   ],
   "source": [
    "df.isnull().any()"
   ]
  },
  {
   "cell_type": "code",
   "execution_count": 13,
   "metadata": {},
   "outputs": [
    {
     "data": {
      "text/plain": [
       "name                   False\n",
       "host_id                False\n",
       "host_name              False\n",
       "neighbourhood_group    False\n",
       "neighbourhood          False\n",
       "latitude               False\n",
       "longitude              False\n",
       "room_type              False\n",
       "price                  False\n",
       "minimum_nights         False\n",
       "number_of_reviews      False\n",
       "last_review            False\n",
       "reviews_per_month      False\n",
       "dtype: bool"
      ]
     },
     "execution_count": 13,
     "metadata": {},
     "output_type": "execute_result"
    }
   ],
   "source": [
    "df = df.dropna()\n",
    "df.isnull().any()"
   ]
  },
  {
   "cell_type": "code",
   "execution_count": 14,
   "metadata": {},
   "outputs": [
    {
     "data": {
      "text/plain": [
       "30175"
      ]
     },
     "execution_count": 14,
     "metadata": {},
     "output_type": "execute_result"
    }
   ],
   "source": [
    "len(df)"
   ]
  },
  {
   "cell_type": "code",
   "execution_count": 15,
   "metadata": {},
   "outputs": [
    {
     "data": {
      "text/plain": [
       "Index(['name', 'host_name', 'neighbourhood_group', 'neighbourhood',\n",
       "       'room_type', 'last_review'],\n",
       "      dtype='object')"
      ]
     },
     "execution_count": 15,
     "metadata": {},
     "output_type": "execute_result"
    }
   ],
   "source": [
    "df.select_dtypes('object').columns"
   ]
  },
  {
   "cell_type": "code",
   "execution_count": 16,
   "metadata": {},
   "outputs": [],
   "source": [
    "dfc = df.copy()"
   ]
  },
  {
   "cell_type": "code",
   "execution_count": 17,
   "metadata": {},
   "outputs": [
    {
     "data": {
      "text/plain": [
       "Index([], dtype='object')"
      ]
     },
     "execution_count": 17,
     "metadata": {},
     "output_type": "execute_result"
    }
   ],
   "source": [
    "from sklearn.preprocessing import LabelEncoder\n",
    "labelencoder = LabelEncoder()\n",
    "\n",
    "lis = df.select_dtypes('object').columns\n",
    "\n",
    "for i in lis:\n",
    "    df[i] = labelencoder.fit_transform(df[i])\n",
    "\n",
    "df.select_dtypes('object').columns"
   ]
  },
  {
   "cell_type": "code",
   "execution_count": 18,
   "metadata": {},
   "outputs": [
    {
     "data": {
      "text/plain": [
       "24306"
      ]
     },
     "execution_count": 18,
     "metadata": {},
     "output_type": "execute_result"
    }
   ],
   "source": [
    "len(set(df['host_id']))"
   ]
  },
  {
   "cell_type": "code",
   "execution_count": 19,
   "metadata": {},
   "outputs": [],
   "source": [
    "from sklearn.model_selection import train_test_split\n",
    "\n",
    "y = df.pop('price')\n",
    "\n",
    "X_train, X_test, y_train, y_test = train_test_split(df, y,\n",
    "                                                    test_size=0.33, random_state=42)\n",
    "\n"
   ]
  },
  {
   "cell_type": "code",
   "execution_count": 20,
   "metadata": {},
   "outputs": [
    {
     "data": {
      "text/plain": [
       "(20217,)"
      ]
     },
     "execution_count": 20,
     "metadata": {},
     "output_type": "execute_result"
    }
   ],
   "source": [
    "y_train.shape"
   ]
  },
  {
   "cell_type": "code",
   "execution_count": 21,
   "metadata": {},
   "outputs": [],
   "source": [
    "# from sklearn.preprocessing import MinMaxScaler\n",
    "# scaler = MinMaxScaler()\n",
    "# X_train = scaler.fit_transform(X_train)\n",
    "# X_test = scaler.fit_transform(X_test)"
   ]
  },
  {
   "cell_type": "code",
   "execution_count": 22,
   "metadata": {},
   "outputs": [
    {
     "data": {
      "text/plain": [
       "name                   False\n",
       "host_id                False\n",
       "host_name              False\n",
       "neighbourhood_group    False\n",
       "neighbourhood          False\n",
       "latitude               False\n",
       "longitude              False\n",
       "room_type              False\n",
       "minimum_nights         False\n",
       "number_of_reviews      False\n",
       "last_review            False\n",
       "reviews_per_month      False\n",
       "dtype: bool"
      ]
     },
     "execution_count": 22,
     "metadata": {},
     "output_type": "execute_result"
    }
   ],
   "source": [
    "X_train.isnull().any()"
   ]
  },
  {
   "cell_type": "code",
   "execution_count": 23,
   "metadata": {},
   "outputs": [],
   "source": [
    "from sklearn.metrics import r2_score\n",
    "from sklearn.metrics import mean_squared_error as mse\n",
    "from sklearn.metrics import mean_absolute_error as mae\n",
    "def score(y_true, y_pred):\n",
    "# y_true = y_train\n",
    "# y_pred = clf.predict(X_train)\n",
    "    print('---')\n",
    "    print('R2, ', r2_score(y_true, y_pred))\n",
    "    print('mse, ', mse(y_true, y_pred))\n",
    "    print('mae, ', mae(y_true, y_pred))\n",
    "    print('rmse, ', mse(y_true, y_pred) ** 0.5)\n",
    "    print('---')"
   ]
  },
  {
   "cell_type": "markdown",
   "metadata": {},
   "source": [
    "### 演算法1: Reg問題的通用baseLine model:  Zero-Rule model\n",
    "他很爛 但很快 很簡單 可以告訴你這批資料的樣態"
   ]
  },
  {
   "cell_type": "code",
   "execution_count": 24,
   "metadata": {},
   "outputs": [
    {
     "name": "stdout",
     "output_type": "stream",
     "text": [
      "[-0.04757077866587187, -0.04757077866587187, -0.04757077866587187, -0.04757077866587187, -0.04757077866587187, -0.04757077866587187, -0.04757077866587187, -0.04757077866587187, -0.04757077866587187, -0.04757077866587187] \n",
      "\n",
      "---\n",
      "R2,  0.0\n",
      "mse,  0.48667663124951144\n",
      "mae,  0.32912534341101946\n",
      "rmse,  0.697622126404769\n",
      "---\n"
     ]
    }
   ],
   "source": [
    "#Zero Rule base\n",
    "y_pred = [y_train.mean()]*len(y_train)\n",
    "print(y_pred[:10],'\\n')\n",
    "score(y_train, y_pred)"
   ]
  },
  {
   "cell_type": "markdown",
   "metadata": {},
   "source": [
    "### 演算法2: SVM Reg: 這個要跑很久  "
   ]
  },
  {
   "cell_type": "code",
   "execution_count": 25,
   "metadata": {},
   "outputs": [],
   "source": [
    "from sklearn.svm import SVR\n",
    "\n",
    "\n",
    "    \n",
    "# 定義SVR\n",
    "svr = SVR(kernel ='rbf', C = 1)\n",
    "\n",
    "# svr.fit(X_train, y_train)\n",
    "\n",
    "# score(y_train, svr.predict(X_train))\n",
    "    "
   ]
  },
  {
   "cell_type": "markdown",
   "metadata": {},
   "source": [
    "## C值很大的後果(與測試做對照)\n",
    "Ref\n",
    "https://scikit-learn.org/stable/auto_examples/svm/plot_rbf_parameters.html"
   ]
  },
  {
   "cell_type": "code",
   "execution_count": 26,
   "metadata": {},
   "outputs": [],
   "source": [
    "# score(y_train, svr.predict(X_train))\n",
    "# score(y_test, svr.predict(X_test))"
   ]
  },
  {
   "cell_type": "markdown",
   "metadata": {},
   "source": [
    "### 演算法3: XGBoost"
   ]
  },
  {
   "cell_type": "code",
   "execution_count": 27,
   "metadata": {},
   "outputs": [],
   "source": [
    "import xgboost as xgb\n",
    "\n",
    "def XGB_def():\n",
    "    xgbreg = xgb.XGBRegressor(\n",
    "    #樹的個數\n",
    "    n_estimators=1000,\n",
    "    # 如同學習率\n",
    "    learning_rate= 0.3, \n",
    "    # 構建樹的深度，越大越容易過擬合    \n",
    "    max_depth=6, \n",
    "    # 隨機取樣訓練樣本 訓練例項的子取樣比\n",
    "    subsample=1, \n",
    "    # 用於控制是否後剪枝的引數,越大越保守，一般0.1、0.2這樣子\n",
    "    gamma=0, \n",
    "    # 控制模型複雜度的權重值的L2正則化項引數，引數越大，模型越不容易過擬合。\n",
    "    reg_lambda=1,  \n",
    "    #隨機種子\n",
    "    seed=1000, \n",
    "    # L1 正則項引數\n",
    "#        reg_alpha=0,\n",
    "    #設定成1則沒有執行資訊輸出，最好是設定為0.是否在執行升級時列印訊息。\n",
    "    silent=0 ,\n",
    "    tree_method = 'gpu_hist', \n",
    "    predictor = 'gpu_predictor',\n",
    "    eval_metric= 'mse',\n",
    "    objective = 'reg:squarederror'\n",
    "    )\n",
    "    \n",
    "    return xgbreg\n",
    "\n",
    "# 定義xgb\n",
    "def XGB_train_score(X_train, y_train):\n",
    "    # 定義模型\n",
    "    xgbreg = XGB_def()\n",
    "    \n",
    "    # 模型 訓練\n",
    "    xgbreg.fit(X_train,y_train,eval_metric='rmse')\n",
    "\n",
    "    # 預測值\n",
    "    y_pred=xgbreg.predict(X_train)\n",
    "\n",
    "    # 評估\n",
    "    score(y_train, y_pred)\n",
    "    return xgbreg"
   ]
  },
  {
   "cell_type": "code",
   "execution_count": 32,
   "metadata": {},
   "outputs": [
    {
     "data": {
      "text/html": [
       "<div>\n",
       "<style scoped>\n",
       "    .dataframe tbody tr th:only-of-type {\n",
       "        vertical-align: middle;\n",
       "    }\n",
       "\n",
       "    .dataframe tbody tr th {\n",
       "        vertical-align: top;\n",
       "    }\n",
       "\n",
       "    .dataframe thead th {\n",
       "        text-align: right;\n",
       "    }\n",
       "</style>\n",
       "<table border=\"1\" class=\"dataframe\">\n",
       "  <thead>\n",
       "    <tr style=\"text-align: right;\">\n",
       "      <th></th>\n",
       "      <th>name</th>\n",
       "      <th>host_id</th>\n",
       "      <th>host_name</th>\n",
       "      <th>neighbourhood_group</th>\n",
       "      <th>neighbourhood</th>\n",
       "      <th>latitude</th>\n",
       "      <th>longitude</th>\n",
       "      <th>room_type</th>\n",
       "      <th>minimum_nights</th>\n",
       "      <th>number_of_reviews</th>\n",
       "      <th>last_review</th>\n",
       "      <th>reviews_per_month</th>\n",
       "    </tr>\n",
       "  </thead>\n",
       "  <tbody>\n",
       "    <tr>\n",
       "      <th>24363</th>\n",
       "      <td>8948</td>\n",
       "      <td>22474793</td>\n",
       "      <td>207</td>\n",
       "      <td>1</td>\n",
       "      <td>106</td>\n",
       "      <td>40.64046</td>\n",
       "      <td>-73.97233</td>\n",
       "      <td>0</td>\n",
       "      <td>1</td>\n",
       "      <td>2</td>\n",
       "      <td>1653</td>\n",
       "      <td>1.28</td>\n",
       "    </tr>\n",
       "    <tr>\n",
       "      <th>2253</th>\n",
       "      <td>5154</td>\n",
       "      <td>4410830</td>\n",
       "      <td>5384</td>\n",
       "      <td>1</td>\n",
       "      <td>211</td>\n",
       "      <td>40.71162</td>\n",
       "      <td>-73.96431</td>\n",
       "      <td>0</td>\n",
       "      <td>4</td>\n",
       "      <td>4</td>\n",
       "      <td>1681</td>\n",
       "      <td>0.38</td>\n",
       "    </tr>\n",
       "    <tr>\n",
       "      <th>29222</th>\n",
       "      <td>8680</td>\n",
       "      <td>5986790</td>\n",
       "      <td>2669</td>\n",
       "      <td>2</td>\n",
       "      <td>203</td>\n",
       "      <td>40.83383</td>\n",
       "      <td>-73.94469</td>\n",
       "      <td>1</td>\n",
       "      <td>7</td>\n",
       "      <td>13</td>\n",
       "      <td>1637</td>\n",
       "      <td>0.36</td>\n",
       "    </tr>\n",
       "    <tr>\n",
       "      <th>17279</th>\n",
       "      <td>2918</td>\n",
       "      <td>1307773</td>\n",
       "      <td>3995</td>\n",
       "      <td>2</td>\n",
       "      <td>203</td>\n",
       "      <td>40.85099</td>\n",
       "      <td>-73.92822</td>\n",
       "      <td>1</td>\n",
       "      <td>60</td>\n",
       "      <td>4</td>\n",
       "      <td>272</td>\n",
       "      <td>0.06</td>\n",
       "    </tr>\n",
       "    <tr>\n",
       "      <th>12705</th>\n",
       "      <td>12705</td>\n",
       "      <td>2119276</td>\n",
       "      <td>3083</td>\n",
       "      <td>2</td>\n",
       "      <td>93</td>\n",
       "      <td>40.76494</td>\n",
       "      <td>-73.98810</td>\n",
       "      <td>0</td>\n",
       "      <td>30</td>\n",
       "      <td>15</td>\n",
       "      <td>1423</td>\n",
       "      <td>0.29</td>\n",
       "    </tr>\n",
       "    <tr>\n",
       "      <th>...</th>\n",
       "      <td>...</td>\n",
       "      <td>...</td>\n",
       "      <td>...</td>\n",
       "      <td>...</td>\n",
       "      <td>...</td>\n",
       "      <td>...</td>\n",
       "      <td>...</td>\n",
       "      <td>...</td>\n",
       "      <td>...</td>\n",
       "      <td>...</td>\n",
       "      <td>...</td>\n",
       "      <td>...</td>\n",
       "    </tr>\n",
       "    <tr>\n",
       "      <th>37524</th>\n",
       "      <td>5736</td>\n",
       "      <td>5334697</td>\n",
       "      <td>7009</td>\n",
       "      <td>2</td>\n",
       "      <td>203</td>\n",
       "      <td>40.84099</td>\n",
       "      <td>-73.93694</td>\n",
       "      <td>1</td>\n",
       "      <td>5</td>\n",
       "      <td>41</td>\n",
       "      <td>1678</td>\n",
       "      <td>1.45</td>\n",
       "    </tr>\n",
       "    <tr>\n",
       "      <th>6767</th>\n",
       "      <td>17732</td>\n",
       "      <td>6405437</td>\n",
       "      <td>3701</td>\n",
       "      <td>1</td>\n",
       "      <td>211</td>\n",
       "      <td>40.71201</td>\n",
       "      <td>-73.96144</td>\n",
       "      <td>0</td>\n",
       "      <td>2</td>\n",
       "      <td>6</td>\n",
       "      <td>1435</td>\n",
       "      <td>0.25</td>\n",
       "    </tr>\n",
       "    <tr>\n",
       "      <th>1074</th>\n",
       "      <td>17286</td>\n",
       "      <td>136431007</td>\n",
       "      <td>4690</td>\n",
       "      <td>2</td>\n",
       "      <td>33</td>\n",
       "      <td>40.74944</td>\n",
       "      <td>-73.99774</td>\n",
       "      <td>1</td>\n",
       "      <td>1</td>\n",
       "      <td>40</td>\n",
       "      <td>1666</td>\n",
       "      <td>1.63</td>\n",
       "    </tr>\n",
       "    <tr>\n",
       "      <th>19889</th>\n",
       "      <td>23559</td>\n",
       "      <td>144857346</td>\n",
       "      <td>2821</td>\n",
       "      <td>2</td>\n",
       "      <td>141</td>\n",
       "      <td>40.72485</td>\n",
       "      <td>-73.99461</td>\n",
       "      <td>0</td>\n",
       "      <td>3</td>\n",
       "      <td>1</td>\n",
       "      <td>1141</td>\n",
       "      <td>0.05</td>\n",
       "    </tr>\n",
       "    <tr>\n",
       "      <th>29733</th>\n",
       "      <td>23700</td>\n",
       "      <td>219517861</td>\n",
       "      <td>7278</td>\n",
       "      <td>2</td>\n",
       "      <td>72</td>\n",
       "      <td>40.70645</td>\n",
       "      <td>-74.01180</td>\n",
       "      <td>0</td>\n",
       "      <td>2</td>\n",
       "      <td>3</td>\n",
       "      <td>1665</td>\n",
       "      <td>1.70</td>\n",
       "    </tr>\n",
       "  </tbody>\n",
       "</table>\n",
       "<p>20217 rows × 12 columns</p>\n",
       "</div>"
      ],
      "text/plain": [
       "        name    host_id  host_name  neighbourhood_group  neighbourhood  \\\n",
       "24363   8948   22474793        207                    1            106   \n",
       "2253    5154    4410830       5384                    1            211   \n",
       "29222   8680    5986790       2669                    2            203   \n",
       "17279   2918    1307773       3995                    2            203   \n",
       "12705  12705    2119276       3083                    2             93   \n",
       "...      ...        ...        ...                  ...            ...   \n",
       "37524   5736    5334697       7009                    2            203   \n",
       "6767   17732    6405437       3701                    1            211   \n",
       "1074   17286  136431007       4690                    2             33   \n",
       "19889  23559  144857346       2821                    2            141   \n",
       "29733  23700  219517861       7278                    2             72   \n",
       "\n",
       "       latitude  longitude  room_type  minimum_nights  number_of_reviews  \\\n",
       "24363  40.64046  -73.97233          0               1                  2   \n",
       "2253   40.71162  -73.96431          0               4                  4   \n",
       "29222  40.83383  -73.94469          1               7                 13   \n",
       "17279  40.85099  -73.92822          1              60                  4   \n",
       "12705  40.76494  -73.98810          0              30                 15   \n",
       "...         ...        ...        ...             ...                ...   \n",
       "37524  40.84099  -73.93694          1               5                 41   \n",
       "6767   40.71201  -73.96144          0               2                  6   \n",
       "1074   40.74944  -73.99774          1               1                 40   \n",
       "19889  40.72485  -73.99461          0               3                  1   \n",
       "29733  40.70645  -74.01180          0               2                  3   \n",
       "\n",
       "       last_review  reviews_per_month  \n",
       "24363         1653               1.28  \n",
       "2253          1681               0.38  \n",
       "29222         1637               0.36  \n",
       "17279          272               0.06  \n",
       "12705         1423               0.29  \n",
       "...            ...                ...  \n",
       "37524         1678               1.45  \n",
       "6767          1435               0.25  \n",
       "1074          1666               1.63  \n",
       "19889         1141               0.05  \n",
       "29733         1665               1.70  \n",
       "\n",
       "[20217 rows x 12 columns]"
      ]
     },
     "execution_count": 32,
     "metadata": {},
     "output_type": "execute_result"
    }
   ],
   "source": [
    "X_train"
   ]
  },
  {
   "cell_type": "code",
   "execution_count": 28,
   "metadata": {},
   "outputs": [
    {
     "name": "stderr",
     "output_type": "stream",
     "text": [
      "/opt/conda/lib/python3.7/site-packages/xgboost/core.py:587: FutureWarning: Series.base is deprecated and will be removed in a future version\n",
      "  if getattr(data, 'base', None) is not None and \\\n"
     ]
    },
    {
     "name": "stdout",
     "output_type": "stream",
     "text": [
      "---\n",
      "R2,  0.9979780477788709\n",
      "mse,  0.0009840368955265776\n",
      "mae,  0.02126540085331307\n",
      "rmse,  0.031369362370417694\n",
      "---\n"
     ]
    },
    {
     "name": "stderr",
     "output_type": "stream",
     "text": [
      "/opt/conda/lib/python3.7/site-packages/xgboost/core.py:587: FutureWarning: Series.base is deprecated and will be removed in a future version\n",
      "  if getattr(data, 'base', None) is not None and \\\n"
     ]
    },
    {
     "name": "stdout",
     "output_type": "stream",
     "text": [
      "---\n",
      "R2,  0.9999729521131525\n",
      "mse,  2.648380682254907e-05\n",
      "mae,  0.003475819245453743\n",
      "rmse,  0.0051462420097143765\n",
      "---\n"
     ]
    },
    {
     "data": {
      "text/plain": [
       "XGBRegressor(base_score=0.5, booster='gbtree', colsample_bylevel=1,\n",
       "             colsample_bynode=1, colsample_bytree=1, eval_metric='mse', gamma=0,\n",
       "             importance_type='gain', learning_rate=0.3, max_delta_step=0,\n",
       "             max_depth=6, min_child_weight=1, missing=None, n_estimators=1000,\n",
       "             n_jobs=1, nthread=None, objective='reg:squarederror',\n",
       "             predictor='gpu_predictor', random_state=0, reg_alpha=0,\n",
       "             reg_lambda=1, scale_pos_weight=1, seed=1000, silent=0, subsample=1,\n",
       "             tree_method='gpu_hist', verbosity=1)"
      ]
     },
     "execution_count": 28,
     "metadata": {},
     "output_type": "execute_result"
    }
   ],
   "source": [
    "XGB_train_score(X_train, y_train)\n",
    "XGB_train_score(X_test, y_test)"
   ]
  },
  {
   "cell_type": "markdown",
   "metadata": {},
   "source": [
    "### 演算法4: 隨機森林"
   ]
  },
  {
   "cell_type": "code",
   "execution_count": 28,
   "metadata": {},
   "outputs": [],
   "source": [
    "from sklearn.ensemble import RandomForestRegressor\n",
    "def RF_def():\n",
    "    RFreg = RandomForestRegressor(max_depth=4, random_state=0, n_estimators = 1000,\n",
    "                            criterion = 'mse', n_jobs = 16)\n",
    "    return RFreg\n",
    "def RF_train_score(X_train, y_train):\n",
    "    RFreg = RF_def()\n",
    "    # 模型 訓練\n",
    "    RFreg.fit(X_train,y_train)\n",
    "\n",
    "    # 預測值\n",
    "    y_pred=RFreg.predict(X_train)\n",
    "\n",
    "    # 評估\n",
    "    score(y_train, y_pred)\n",
    "    return RFreg"
   ]
  },
  {
   "cell_type": "code",
   "execution_count": 29,
   "metadata": {},
   "outputs": [
    {
     "name": "stdout",
     "output_type": "stream",
     "text": [
      "---\n",
      "R2,  0.3079097529025896\n",
      "mse,  0.3341645493140877\n",
      "mae,  0.23411662144871107\n",
      "rmse,  0.5780696751379436\n",
      "---\n"
     ]
    },
    {
     "data": {
      "text/plain": [
       "RandomForestRegressor(bootstrap=True, criterion='mse', max_depth=4,\n",
       "                      max_features='auto', max_leaf_nodes=None,\n",
       "                      min_impurity_decrease=0.0, min_impurity_split=None,\n",
       "                      min_samples_leaf=1, min_samples_split=2,\n",
       "                      min_weight_fraction_leaf=0.0, n_estimators=1000,\n",
       "                      n_jobs=16, oob_score=False, random_state=0, verbose=0,\n",
       "                      warm_start=False)"
      ]
     },
     "execution_count": 29,
     "metadata": {},
     "output_type": "execute_result"
    }
   ],
   "source": [
    "RF_train_score(X_train, y_train)"
   ]
  },
  {
   "cell_type": "markdown",
   "metadata": {},
   "source": [
    "### 第一次評估: \n",
    "因為 mse遠大於mae，可以認為裡面有很多離群值，接下來對離群值做處理。但其實tree_base的演算法(XGB, CART, RandomFroest)對離群值不太敏感，所以我們等一下的分析包括:\n",
    "- 離群值\n",
    "- 變數相關性\n",
    "- 找出沒用的變數\n",
    "特徵工程"
   ]
  },
  {
   "cell_type": "markdown",
   "metadata": {},
   "source": [
    "## Chap2: 尋找離群值"
   ]
  },
  {
   "cell_type": "code",
   "execution_count": 30,
   "metadata": {},
   "outputs": [
    {
     "data": {
      "text/html": [
       "<div>\n",
       "<style scoped>\n",
       "    .dataframe tbody tr th:only-of-type {\n",
       "        vertical-align: middle;\n",
       "    }\n",
       "\n",
       "    .dataframe tbody tr th {\n",
       "        vertical-align: top;\n",
       "    }\n",
       "\n",
       "    .dataframe thead th {\n",
       "        text-align: right;\n",
       "    }\n",
       "</style>\n",
       "<table border=\"1\" class=\"dataframe\">\n",
       "  <thead>\n",
       "    <tr style=\"text-align: right;\">\n",
       "      <th></th>\n",
       "      <th>name</th>\n",
       "      <th>host_id</th>\n",
       "      <th>host_name</th>\n",
       "      <th>neighbourhood_group</th>\n",
       "      <th>neighbourhood</th>\n",
       "      <th>latitude</th>\n",
       "      <th>longitude</th>\n",
       "      <th>room_type</th>\n",
       "      <th>price</th>\n",
       "      <th>minimum_nights</th>\n",
       "      <th>number_of_reviews</th>\n",
       "      <th>last_review</th>\n",
       "      <th>reviews_per_month</th>\n",
       "    </tr>\n",
       "  </thead>\n",
       "  <tbody>\n",
       "    <tr>\n",
       "      <th>0</th>\n",
       "      <td>Beautiful Ft. Greene Apartment-NEW!</td>\n",
       "      <td>2966937</td>\n",
       "      <td>Chris</td>\n",
       "      <td>Brooklyn</td>\n",
       "      <td>Clinton Hill</td>\n",
       "      <td>40.68533</td>\n",
       "      <td>-73.96808</td>\n",
       "      <td>Entire home/apt</td>\n",
       "      <td>-0.015493</td>\n",
       "      <td>2</td>\n",
       "      <td>20</td>\n",
       "      <td>2018-12-30</td>\n",
       "      <td>0.24</td>\n",
       "    </tr>\n",
       "    <tr>\n",
       "      <th>1</th>\n",
       "      <td>East Williamsburg/Bushwick Loft</td>\n",
       "      <td>130667097</td>\n",
       "      <td>Paul</td>\n",
       "      <td>Brooklyn</td>\n",
       "      <td>Williamsburg</td>\n",
       "      <td>40.70492</td>\n",
       "      <td>-73.93341</td>\n",
       "      <td>Private room</td>\n",
       "      <td>-0.406912</td>\n",
       "      <td>1</td>\n",
       "      <td>25</td>\n",
       "      <td>2018-12-30</td>\n",
       "      <td>0.96</td>\n",
       "    </tr>\n",
       "    <tr>\n",
       "      <th>2</th>\n",
       "      <td>Sunny and comfortable Upper West Side Manhattan</td>\n",
       "      <td>169704873</td>\n",
       "      <td>Michele</td>\n",
       "      <td>Manhattan</td>\n",
       "      <td>Morningside Heights</td>\n",
       "      <td>40.81064</td>\n",
       "      <td>-73.95734</td>\n",
       "      <td>Private room</td>\n",
       "      <td>-0.011329</td>\n",
       "      <td>14</td>\n",
       "      <td>6</td>\n",
       "      <td>2018-06-22</td>\n",
       "      <td>0.41</td>\n",
       "    </tr>\n",
       "  </tbody>\n",
       "</table>\n",
       "</div>"
      ],
      "text/plain": [
       "                                              name    host_id host_name  \\\n",
       "0              Beautiful Ft. Greene Apartment-NEW!    2966937     Chris   \n",
       "1                  East Williamsburg/Bushwick Loft  130667097      Paul   \n",
       "2  Sunny and comfortable Upper West Side Manhattan  169704873   Michele   \n",
       "\n",
       "  neighbourhood_group        neighbourhood  latitude  longitude  \\\n",
       "0            Brooklyn         Clinton Hill  40.68533  -73.96808   \n",
       "1            Brooklyn         Williamsburg  40.70492  -73.93341   \n",
       "2           Manhattan  Morningside Heights  40.81064  -73.95734   \n",
       "\n",
       "         room_type     price  minimum_nights  number_of_reviews last_review  \\\n",
       "0  Entire home/apt -0.015493               2                 20  2018-12-30   \n",
       "1     Private room -0.406912               1                 25  2018-12-30   \n",
       "2     Private room -0.011329              14                  6  2018-06-22   \n",
       "\n",
       "   reviews_per_month  \n",
       "0               0.24  \n",
       "1               0.96  \n",
       "2               0.41  "
      ]
     },
     "execution_count": 30,
     "metadata": {},
     "output_type": "execute_result"
    }
   ],
   "source": [
    "# 把df做還原\n",
    "df = dfc.copy()\n",
    "df.head(3)"
   ]
  },
  {
   "cell_type": "code",
   "execution_count": 31,
   "metadata": {},
   "outputs": [
    {
     "data": {
      "text/html": [
       "<div>\n",
       "<style scoped>\n",
       "    .dataframe tbody tr th:only-of-type {\n",
       "        vertical-align: middle;\n",
       "    }\n",
       "\n",
       "    .dataframe tbody tr th {\n",
       "        vertical-align: top;\n",
       "    }\n",
       "\n",
       "    .dataframe thead th {\n",
       "        text-align: right;\n",
       "    }\n",
       "</style>\n",
       "<table border=\"1\" class=\"dataframe\">\n",
       "  <thead>\n",
       "    <tr style=\"text-align: right;\">\n",
       "      <th></th>\n",
       "      <th>host_id</th>\n",
       "      <th>latitude</th>\n",
       "      <th>longitude</th>\n",
       "      <th>price</th>\n",
       "      <th>minimum_nights</th>\n",
       "      <th>number_of_reviews</th>\n",
       "      <th>reviews_per_month</th>\n",
       "    </tr>\n",
       "  </thead>\n",
       "  <tbody>\n",
       "    <tr>\n",
       "      <th>0</th>\n",
       "      <td>2966937</td>\n",
       "      <td>40.68533</td>\n",
       "      <td>-73.96808</td>\n",
       "      <td>-0.015493</td>\n",
       "      <td>2</td>\n",
       "      <td>20</td>\n",
       "      <td>0.24</td>\n",
       "    </tr>\n",
       "    <tr>\n",
       "      <th>1</th>\n",
       "      <td>130667097</td>\n",
       "      <td>40.70492</td>\n",
       "      <td>-73.93341</td>\n",
       "      <td>-0.406912</td>\n",
       "      <td>1</td>\n",
       "      <td>25</td>\n",
       "      <td>0.96</td>\n",
       "    </tr>\n",
       "    <tr>\n",
       "      <th>2</th>\n",
       "      <td>169704873</td>\n",
       "      <td>40.81064</td>\n",
       "      <td>-73.95734</td>\n",
       "      <td>-0.011329</td>\n",
       "      <td>14</td>\n",
       "      <td>6</td>\n",
       "      <td>0.41</td>\n",
       "    </tr>\n",
       "    <tr>\n",
       "      <th>3</th>\n",
       "      <td>27403581</td>\n",
       "      <td>40.82665</td>\n",
       "      <td>-73.94669</td>\n",
       "      <td>-0.431897</td>\n",
       "      <td>2</td>\n",
       "      <td>52</td>\n",
       "      <td>1.95</td>\n",
       "    </tr>\n",
       "    <tr>\n",
       "      <th>5</th>\n",
       "      <td>3571172</td>\n",
       "      <td>40.81251</td>\n",
       "      <td>-73.94524</td>\n",
       "      <td>-0.240351</td>\n",
       "      <td>1</td>\n",
       "      <td>2</td>\n",
       "      <td>0.06</td>\n",
       "    </tr>\n",
       "  </tbody>\n",
       "</table>\n",
       "</div>"
      ],
      "text/plain": [
       "     host_id  latitude  longitude     price  minimum_nights  \\\n",
       "0    2966937  40.68533  -73.96808 -0.015493               2   \n",
       "1  130667097  40.70492  -73.93341 -0.406912               1   \n",
       "2  169704873  40.81064  -73.95734 -0.011329              14   \n",
       "3   27403581  40.82665  -73.94669 -0.431897               2   \n",
       "5    3571172  40.81251  -73.94524 -0.240351               1   \n",
       "\n",
       "   number_of_reviews  reviews_per_month  \n",
       "0                 20               0.24  \n",
       "1                 25               0.96  \n",
       "2                  6               0.41  \n",
       "3                 52               1.95  \n",
       "5                  2               0.06  "
      ]
     },
     "execution_count": 31,
     "metadata": {},
     "output_type": "execute_result"
    }
   ],
   "source": [
    "# 所有不是str(object)的欄位\n",
    "df_math = df.select_dtypes(exclude=['object'])\n",
    "df_math.head()"
   ]
  },
  {
   "cell_type": "code",
   "execution_count": 32,
   "metadata": {},
   "outputs": [
    {
     "name": "stderr",
     "output_type": "stream",
     "text": [
      "/opt/conda/lib/python3.7/site-packages/pandas/core/frame.py:4117: SettingWithCopyWarning: \n",
      "A value is trying to be set on a copy of a slice from a DataFrame\n",
      "\n",
      "See the caveats in the documentation: http://pandas.pydata.org/pandas-docs/stable/user_guide/indexing.html#returning-a-view-versus-a-copy\n",
      "  errors=errors,\n"
     ]
    },
    {
     "data": {
      "text/html": [
       "<div>\n",
       "<style scoped>\n",
       "    .dataframe tbody tr th:only-of-type {\n",
       "        vertical-align: middle;\n",
       "    }\n",
       "\n",
       "    .dataframe tbody tr th {\n",
       "        vertical-align: top;\n",
       "    }\n",
       "\n",
       "    .dataframe thead th {\n",
       "        text-align: right;\n",
       "    }\n",
       "</style>\n",
       "<table border=\"1\" class=\"dataframe\">\n",
       "  <thead>\n",
       "    <tr style=\"text-align: right;\">\n",
       "      <th></th>\n",
       "      <th>latitude</th>\n",
       "      <th>longitude</th>\n",
       "      <th>price</th>\n",
       "      <th>minimum_nights</th>\n",
       "      <th>number_of_reviews</th>\n",
       "      <th>reviews_per_month</th>\n",
       "    </tr>\n",
       "  </thead>\n",
       "  <tbody>\n",
       "    <tr>\n",
       "      <th>0</th>\n",
       "      <td>40.68533</td>\n",
       "      <td>-73.96808</td>\n",
       "      <td>-0.015493</td>\n",
       "      <td>2</td>\n",
       "      <td>20</td>\n",
       "      <td>0.24</td>\n",
       "    </tr>\n",
       "    <tr>\n",
       "      <th>1</th>\n",
       "      <td>40.70492</td>\n",
       "      <td>-73.93341</td>\n",
       "      <td>-0.406912</td>\n",
       "      <td>1</td>\n",
       "      <td>25</td>\n",
       "      <td>0.96</td>\n",
       "    </tr>\n",
       "    <tr>\n",
       "      <th>2</th>\n",
       "      <td>40.81064</td>\n",
       "      <td>-73.95734</td>\n",
       "      <td>-0.011329</td>\n",
       "      <td>14</td>\n",
       "      <td>6</td>\n",
       "      <td>0.41</td>\n",
       "    </tr>\n",
       "    <tr>\n",
       "      <th>3</th>\n",
       "      <td>40.82665</td>\n",
       "      <td>-73.94669</td>\n",
       "      <td>-0.431897</td>\n",
       "      <td>2</td>\n",
       "      <td>52</td>\n",
       "      <td>1.95</td>\n",
       "    </tr>\n",
       "    <tr>\n",
       "      <th>5</th>\n",
       "      <td>40.81251</td>\n",
       "      <td>-73.94524</td>\n",
       "      <td>-0.240351</td>\n",
       "      <td>1</td>\n",
       "      <td>2</td>\n",
       "      <td>0.06</td>\n",
       "    </tr>\n",
       "    <tr>\n",
       "      <th>...</th>\n",
       "      <td>...</td>\n",
       "      <td>...</td>\n",
       "      <td>...</td>\n",
       "      <td>...</td>\n",
       "      <td>...</td>\n",
       "      <td>...</td>\n",
       "    </tr>\n",
       "    <tr>\n",
       "      <th>37993</th>\n",
       "      <td>40.66892</td>\n",
       "      <td>-73.99136</td>\n",
       "      <td>0.051131</td>\n",
       "      <td>3</td>\n",
       "      <td>178</td>\n",
       "      <td>3.70</td>\n",
       "    </tr>\n",
       "    <tr>\n",
       "      <th>37994</th>\n",
       "      <td>40.71569</td>\n",
       "      <td>-73.99076</td>\n",
       "      <td>-0.373600</td>\n",
       "      <td>3</td>\n",
       "      <td>10</td>\n",
       "      <td>0.36</td>\n",
       "    </tr>\n",
       "    <tr>\n",
       "      <th>37996</th>\n",
       "      <td>40.68591</td>\n",
       "      <td>-73.91344</td>\n",
       "      <td>-0.448553</td>\n",
       "      <td>1</td>\n",
       "      <td>18</td>\n",
       "      <td>0.41</td>\n",
       "    </tr>\n",
       "    <tr>\n",
       "      <th>37998</th>\n",
       "      <td>40.83555</td>\n",
       "      <td>-73.87570</td>\n",
       "      <td>-0.531833</td>\n",
       "      <td>3</td>\n",
       "      <td>38</td>\n",
       "      <td>1.82</td>\n",
       "    </tr>\n",
       "    <tr>\n",
       "      <th>37999</th>\n",
       "      <td>40.70936</td>\n",
       "      <td>-73.94370</td>\n",
       "      <td>-0.323632</td>\n",
       "      <td>2</td>\n",
       "      <td>16</td>\n",
       "      <td>1.55</td>\n",
       "    </tr>\n",
       "  </tbody>\n",
       "</table>\n",
       "<p>30156 rows × 6 columns</p>\n",
       "</div>"
      ],
      "text/plain": [
       "       latitude  longitude     price  minimum_nights  number_of_reviews  \\\n",
       "0      40.68533  -73.96808 -0.015493               2                 20   \n",
       "1      40.70492  -73.93341 -0.406912               1                 25   \n",
       "2      40.81064  -73.95734 -0.011329              14                  6   \n",
       "3      40.82665  -73.94669 -0.431897               2                 52   \n",
       "5      40.81251  -73.94524 -0.240351               1                  2   \n",
       "...         ...        ...       ...             ...                ...   \n",
       "37993  40.66892  -73.99136  0.051131               3                178   \n",
       "37994  40.71569  -73.99076 -0.373600               3                 10   \n",
       "37996  40.68591  -73.91344 -0.448553               1                 18   \n",
       "37998  40.83555  -73.87570 -0.531833               3                 38   \n",
       "37999  40.70936  -73.94370 -0.323632               2                 16   \n",
       "\n",
       "       reviews_per_month  \n",
       "0                   0.24  \n",
       "1                   0.96  \n",
       "2                   0.41  \n",
       "3                   1.95  \n",
       "5                   0.06  \n",
       "...                  ...  \n",
       "37993               3.70  \n",
       "37994               0.36  \n",
       "37996               0.41  \n",
       "37998               1.82  \n",
       "37999               1.55  \n",
       "\n",
       "[30156 rows x 6 columns]"
      ]
     },
     "execution_count": 32,
     "metadata": {},
     "output_type": "execute_result"
    }
   ],
   "source": [
    "# host_id也不是我們要分析離群值的目標 把他也拿掉\n",
    "\n",
    "df_math.drop(columns = ['host_id'], axis = 1, inplace = True)\n",
    "df_math"
   ]
  },
  {
   "cell_type": "code",
   "execution_count": 33,
   "metadata": {},
   "outputs": [
    {
     "data": {
      "text/plain": [
       "24383"
      ]
     },
     "execution_count": 33,
     "metadata": {},
     "output_type": "execute_result"
    }
   ],
   "source": [
    "# \n",
    "len(df_math.mask((df_math - df_math.mean()).abs() > 2 * df_math.std()).dropna())"
   ]
  },
  {
   "cell_type": "code",
   "execution_count": 34,
   "metadata": {},
   "outputs": [
    {
     "data": {
      "text/html": [
       "<div>\n",
       "<style scoped>\n",
       "    .dataframe tbody tr th:only-of-type {\n",
       "        vertical-align: middle;\n",
       "    }\n",
       "\n",
       "    .dataframe tbody tr th {\n",
       "        vertical-align: top;\n",
       "    }\n",
       "\n",
       "    .dataframe thead th {\n",
       "        text-align: right;\n",
       "    }\n",
       "</style>\n",
       "<table border=\"1\" class=\"dataframe\">\n",
       "  <thead>\n",
       "    <tr style=\"text-align: right;\">\n",
       "      <th></th>\n",
       "      <th>latitude</th>\n",
       "      <th>longitude</th>\n",
       "      <th>price</th>\n",
       "      <th>minimum_nights</th>\n",
       "      <th>number_of_reviews</th>\n",
       "      <th>reviews_per_month</th>\n",
       "    </tr>\n",
       "  </thead>\n",
       "  <tbody>\n",
       "    <tr>\n",
       "      <th>0</th>\n",
       "      <td>40.68533</td>\n",
       "      <td>-73.96808</td>\n",
       "      <td>-0.015493</td>\n",
       "      <td>2.0</td>\n",
       "      <td>20.0</td>\n",
       "      <td>0.24</td>\n",
       "    </tr>\n",
       "    <tr>\n",
       "      <th>1</th>\n",
       "      <td>40.70492</td>\n",
       "      <td>-73.93341</td>\n",
       "      <td>-0.406912</td>\n",
       "      <td>1.0</td>\n",
       "      <td>25.0</td>\n",
       "      <td>0.96</td>\n",
       "    </tr>\n",
       "    <tr>\n",
       "      <th>2</th>\n",
       "      <td>40.81064</td>\n",
       "      <td>-73.95734</td>\n",
       "      <td>-0.011329</td>\n",
       "      <td>14.0</td>\n",
       "      <td>6.0</td>\n",
       "      <td>0.41</td>\n",
       "    </tr>\n",
       "    <tr>\n",
       "      <th>3</th>\n",
       "      <td>40.82665</td>\n",
       "      <td>-73.94669</td>\n",
       "      <td>-0.431897</td>\n",
       "      <td>2.0</td>\n",
       "      <td>52.0</td>\n",
       "      <td>1.95</td>\n",
       "    </tr>\n",
       "    <tr>\n",
       "      <th>5</th>\n",
       "      <td>40.81251</td>\n",
       "      <td>-73.94524</td>\n",
       "      <td>-0.240351</td>\n",
       "      <td>1.0</td>\n",
       "      <td>2.0</td>\n",
       "      <td>0.06</td>\n",
       "    </tr>\n",
       "    <tr>\n",
       "      <th>...</th>\n",
       "      <td>...</td>\n",
       "      <td>...</td>\n",
       "      <td>...</td>\n",
       "      <td>...</td>\n",
       "      <td>...</td>\n",
       "      <td>...</td>\n",
       "    </tr>\n",
       "    <tr>\n",
       "      <th>37993</th>\n",
       "      <td>40.66892</td>\n",
       "      <td>-73.99136</td>\n",
       "      <td>0.051131</td>\n",
       "      <td>3.0</td>\n",
       "      <td>NaN</td>\n",
       "      <td>3.70</td>\n",
       "    </tr>\n",
       "    <tr>\n",
       "      <th>37994</th>\n",
       "      <td>40.71569</td>\n",
       "      <td>-73.99076</td>\n",
       "      <td>-0.373600</td>\n",
       "      <td>3.0</td>\n",
       "      <td>10.0</td>\n",
       "      <td>0.36</td>\n",
       "    </tr>\n",
       "    <tr>\n",
       "      <th>37996</th>\n",
       "      <td>40.68591</td>\n",
       "      <td>-73.91344</td>\n",
       "      <td>-0.448553</td>\n",
       "      <td>1.0</td>\n",
       "      <td>18.0</td>\n",
       "      <td>0.41</td>\n",
       "    </tr>\n",
       "    <tr>\n",
       "      <th>37998</th>\n",
       "      <td>40.83555</td>\n",
       "      <td>-73.87570</td>\n",
       "      <td>-0.531833</td>\n",
       "      <td>3.0</td>\n",
       "      <td>38.0</td>\n",
       "      <td>1.82</td>\n",
       "    </tr>\n",
       "    <tr>\n",
       "      <th>37999</th>\n",
       "      <td>40.70936</td>\n",
       "      <td>-73.94370</td>\n",
       "      <td>-0.323632</td>\n",
       "      <td>2.0</td>\n",
       "      <td>16.0</td>\n",
       "      <td>1.55</td>\n",
       "    </tr>\n",
       "  </tbody>\n",
       "</table>\n",
       "<p>30156 rows × 6 columns</p>\n",
       "</div>"
      ],
      "text/plain": [
       "       latitude  longitude     price  minimum_nights  number_of_reviews  \\\n",
       "0      40.68533  -73.96808 -0.015493             2.0               20.0   \n",
       "1      40.70492  -73.93341 -0.406912             1.0               25.0   \n",
       "2      40.81064  -73.95734 -0.011329            14.0                6.0   \n",
       "3      40.82665  -73.94669 -0.431897             2.0               52.0   \n",
       "5      40.81251  -73.94524 -0.240351             1.0                2.0   \n",
       "...         ...        ...       ...             ...                ...   \n",
       "37993  40.66892  -73.99136  0.051131             3.0                NaN   \n",
       "37994  40.71569  -73.99076 -0.373600             3.0               10.0   \n",
       "37996  40.68591  -73.91344 -0.448553             1.0               18.0   \n",
       "37998  40.83555  -73.87570 -0.531833             3.0               38.0   \n",
       "37999  40.70936  -73.94370 -0.323632             2.0               16.0   \n",
       "\n",
       "       reviews_per_month  \n",
       "0                   0.24  \n",
       "1                   0.96  \n",
       "2                   0.41  \n",
       "3                   1.95  \n",
       "5                   0.06  \n",
       "...                  ...  \n",
       "37993               3.70  \n",
       "37994               0.36  \n",
       "37996               0.41  \n",
       "37998               1.82  \n",
       "37999               1.55  \n",
       "\n",
       "[30156 rows x 6 columns]"
      ]
     },
     "execution_count": 34,
     "metadata": {},
     "output_type": "execute_result"
    }
   ],
   "source": [
    "a = df_math.mask((df_math - df_math.mean()).abs() >2 * df_math.std())\n",
    "a"
   ]
  },
  {
   "cell_type": "code",
   "execution_count": 35,
   "metadata": {},
   "outputs": [
    {
     "name": "stderr",
     "output_type": "stream",
     "text": [
      "/opt/conda/lib/python3.7/site-packages/ipykernel_launcher.py:5: SettingWithCopyWarning: \n",
      "A value is trying to be set on a copy of a slice from a DataFrame.\n",
      "Try using .loc[row_indexer,col_indexer] = value instead\n",
      "\n",
      "See the caveats in the documentation: http://pandas.pydata.org/pandas-docs/stable/user_guide/indexing.html#returning-a-view-versus-a-copy\n",
      "  \"\"\"\n"
     ]
    },
    {
     "data": {
      "text/html": [
       "<div>\n",
       "<style scoped>\n",
       "    .dataframe tbody tr th:only-of-type {\n",
       "        vertical-align: middle;\n",
       "    }\n",
       "\n",
       "    .dataframe tbody tr th {\n",
       "        vertical-align: top;\n",
       "    }\n",
       "\n",
       "    .dataframe thead th {\n",
       "        text-align: right;\n",
       "    }\n",
       "</style>\n",
       "<table border=\"1\" class=\"dataframe\">\n",
       "  <thead>\n",
       "    <tr style=\"text-align: right;\">\n",
       "      <th></th>\n",
       "      <th>name</th>\n",
       "      <th>host_name</th>\n",
       "      <th>neighbourhood_group</th>\n",
       "      <th>neighbourhood</th>\n",
       "      <th>room_type</th>\n",
       "      <th>last_review</th>\n",
       "    </tr>\n",
       "  </thead>\n",
       "  <tbody>\n",
       "    <tr>\n",
       "      <th>0</th>\n",
       "      <td>3624</td>\n",
       "      <td>1427</td>\n",
       "      <td>1</td>\n",
       "      <td>41</td>\n",
       "      <td>0</td>\n",
       "      <td>1502</td>\n",
       "    </tr>\n",
       "    <tr>\n",
       "      <th>1</th>\n",
       "      <td>11413</td>\n",
       "      <td>6107</td>\n",
       "      <td>1</td>\n",
       "      <td>212</td>\n",
       "      <td>1</td>\n",
       "      <td>1502</td>\n",
       "    </tr>\n",
       "    <tr>\n",
       "      <th>2</th>\n",
       "      <td>26563</td>\n",
       "      <td>5341</td>\n",
       "      <td>2</td>\n",
       "      <td>129</td>\n",
       "      <td>1</td>\n",
       "      <td>1311</td>\n",
       "    </tr>\n",
       "    <tr>\n",
       "      <th>3</th>\n",
       "      <td>10760</td>\n",
       "      <td>7080</td>\n",
       "      <td>2</td>\n",
       "      <td>93</td>\n",
       "      <td>2</td>\n",
       "      <td>1609</td>\n",
       "    </tr>\n",
       "    <tr>\n",
       "      <th>5</th>\n",
       "      <td>12268</td>\n",
       "      <td>3096</td>\n",
       "      <td>2</td>\n",
       "      <td>93</td>\n",
       "      <td>0</td>\n",
       "      <td>631</td>\n",
       "    </tr>\n",
       "    <tr>\n",
       "      <th>...</th>\n",
       "      <td>...</td>\n",
       "      <td>...</td>\n",
       "      <td>...</td>\n",
       "      <td>...</td>\n",
       "      <td>...</td>\n",
       "      <td>...</td>\n",
       "    </tr>\n",
       "    <tr>\n",
       "      <th>37993</th>\n",
       "      <td>26649</td>\n",
       "      <td>5334</td>\n",
       "      <td>1</td>\n",
       "      <td>84</td>\n",
       "      <td>0</td>\n",
       "      <td>1677</td>\n",
       "    </tr>\n",
       "    <tr>\n",
       "      <th>37994</th>\n",
       "      <td>1923</td>\n",
       "      <td>2226</td>\n",
       "      <td>2</td>\n",
       "      <td>35</td>\n",
       "      <td>1</td>\n",
       "      <td>900</td>\n",
       "    </tr>\n",
       "    <tr>\n",
       "      <th>37996</th>\n",
       "      <td>15405</td>\n",
       "      <td>566</td>\n",
       "      <td>1</td>\n",
       "      <td>28</td>\n",
       "      <td>1</td>\n",
       "      <td>1195</td>\n",
       "    </tr>\n",
       "    <tr>\n",
       "      <th>37998</th>\n",
       "      <td>15335</td>\n",
       "      <td>1937</td>\n",
       "      <td>0</td>\n",
       "      <td>150</td>\n",
       "      <td>1</td>\n",
       "      <td>1686</td>\n",
       "    </tr>\n",
       "    <tr>\n",
       "      <th>37999</th>\n",
       "      <td>15509</td>\n",
       "      <td>3949</td>\n",
       "      <td>1</td>\n",
       "      <td>212</td>\n",
       "      <td>1</td>\n",
       "      <td>1558</td>\n",
       "    </tr>\n",
       "  </tbody>\n",
       "</table>\n",
       "<p>30156 rows × 6 columns</p>\n",
       "</div>"
      ],
      "text/plain": [
       "        name  host_name  neighbourhood_group  neighbourhood  room_type  \\\n",
       "0       3624       1427                    1             41          0   \n",
       "1      11413       6107                    1            212          1   \n",
       "2      26563       5341                    2            129          1   \n",
       "3      10760       7080                    2             93          2   \n",
       "5      12268       3096                    2             93          0   \n",
       "...      ...        ...                  ...            ...        ...   \n",
       "37993  26649       5334                    1             84          0   \n",
       "37994   1923       2226                    2             35          1   \n",
       "37996  15405        566                    1             28          1   \n",
       "37998  15335       1937                    0            150          1   \n",
       "37999  15509       3949                    1            212          1   \n",
       "\n",
       "       last_review  \n",
       "0             1502  \n",
       "1             1502  \n",
       "2             1311  \n",
       "3             1609  \n",
       "5              631  \n",
       "...            ...  \n",
       "37993         1677  \n",
       "37994          900  \n",
       "37996         1195  \n",
       "37998         1686  \n",
       "37999         1558  \n",
       "\n",
       "[30156 rows x 6 columns]"
      ]
     },
     "execution_count": 35,
     "metadata": {},
     "output_type": "execute_result"
    }
   ],
   "source": [
    "b = df.select_dtypes(include=['object'])\n",
    "lis = b.columns\n",
    "\n",
    "for i in lis:\n",
    "    b[i] = labelencoder.fit_transform(b[i])\n",
    "b"
   ]
  },
  {
   "cell_type": "code",
   "execution_count": 36,
   "metadata": {},
   "outputs": [
    {
     "data": {
      "text/html": [
       "<div>\n",
       "<style scoped>\n",
       "    .dataframe tbody tr th:only-of-type {\n",
       "        vertical-align: middle;\n",
       "    }\n",
       "\n",
       "    .dataframe tbody tr th {\n",
       "        vertical-align: top;\n",
       "    }\n",
       "\n",
       "    .dataframe thead th {\n",
       "        text-align: right;\n",
       "    }\n",
       "</style>\n",
       "<table border=\"1\" class=\"dataframe\">\n",
       "  <thead>\n",
       "    <tr style=\"text-align: right;\">\n",
       "      <th></th>\n",
       "      <th>latitude</th>\n",
       "      <th>longitude</th>\n",
       "      <th>price</th>\n",
       "      <th>minimum_nights</th>\n",
       "      <th>number_of_reviews</th>\n",
       "      <th>reviews_per_month</th>\n",
       "      <th>name</th>\n",
       "      <th>host_name</th>\n",
       "      <th>neighbourhood_group</th>\n",
       "      <th>neighbourhood</th>\n",
       "      <th>room_type</th>\n",
       "      <th>last_review</th>\n",
       "    </tr>\n",
       "  </thead>\n",
       "  <tbody>\n",
       "    <tr>\n",
       "      <th>0</th>\n",
       "      <td>40.68533</td>\n",
       "      <td>-73.96808</td>\n",
       "      <td>-0.015493</td>\n",
       "      <td>2.0</td>\n",
       "      <td>20.0</td>\n",
       "      <td>0.24</td>\n",
       "      <td>3624</td>\n",
       "      <td>1427</td>\n",
       "      <td>1</td>\n",
       "      <td>41</td>\n",
       "      <td>0</td>\n",
       "      <td>1502</td>\n",
       "    </tr>\n",
       "    <tr>\n",
       "      <th>1</th>\n",
       "      <td>40.70492</td>\n",
       "      <td>-73.93341</td>\n",
       "      <td>-0.406912</td>\n",
       "      <td>1.0</td>\n",
       "      <td>25.0</td>\n",
       "      <td>0.96</td>\n",
       "      <td>11413</td>\n",
       "      <td>6107</td>\n",
       "      <td>1</td>\n",
       "      <td>212</td>\n",
       "      <td>1</td>\n",
       "      <td>1502</td>\n",
       "    </tr>\n",
       "    <tr>\n",
       "      <th>2</th>\n",
       "      <td>40.81064</td>\n",
       "      <td>-73.95734</td>\n",
       "      <td>-0.011329</td>\n",
       "      <td>14.0</td>\n",
       "      <td>6.0</td>\n",
       "      <td>0.41</td>\n",
       "      <td>26563</td>\n",
       "      <td>5341</td>\n",
       "      <td>2</td>\n",
       "      <td>129</td>\n",
       "      <td>1</td>\n",
       "      <td>1311</td>\n",
       "    </tr>\n",
       "    <tr>\n",
       "      <th>3</th>\n",
       "      <td>40.82665</td>\n",
       "      <td>-73.94669</td>\n",
       "      <td>-0.431897</td>\n",
       "      <td>2.0</td>\n",
       "      <td>52.0</td>\n",
       "      <td>1.95</td>\n",
       "      <td>10760</td>\n",
       "      <td>7080</td>\n",
       "      <td>2</td>\n",
       "      <td>93</td>\n",
       "      <td>2</td>\n",
       "      <td>1609</td>\n",
       "    </tr>\n",
       "    <tr>\n",
       "      <th>5</th>\n",
       "      <td>40.81251</td>\n",
       "      <td>-73.94524</td>\n",
       "      <td>-0.240351</td>\n",
       "      <td>1.0</td>\n",
       "      <td>2.0</td>\n",
       "      <td>0.06</td>\n",
       "      <td>12268</td>\n",
       "      <td>3096</td>\n",
       "      <td>2</td>\n",
       "      <td>93</td>\n",
       "      <td>0</td>\n",
       "      <td>631</td>\n",
       "    </tr>\n",
       "    <tr>\n",
       "      <th>...</th>\n",
       "      <td>...</td>\n",
       "      <td>...</td>\n",
       "      <td>...</td>\n",
       "      <td>...</td>\n",
       "      <td>...</td>\n",
       "      <td>...</td>\n",
       "      <td>...</td>\n",
       "      <td>...</td>\n",
       "      <td>...</td>\n",
       "      <td>...</td>\n",
       "      <td>...</td>\n",
       "      <td>...</td>\n",
       "    </tr>\n",
       "    <tr>\n",
       "      <th>37993</th>\n",
       "      <td>40.66892</td>\n",
       "      <td>-73.99136</td>\n",
       "      <td>0.051131</td>\n",
       "      <td>3.0</td>\n",
       "      <td>NaN</td>\n",
       "      <td>3.70</td>\n",
       "      <td>26649</td>\n",
       "      <td>5334</td>\n",
       "      <td>1</td>\n",
       "      <td>84</td>\n",
       "      <td>0</td>\n",
       "      <td>1677</td>\n",
       "    </tr>\n",
       "    <tr>\n",
       "      <th>37994</th>\n",
       "      <td>40.71569</td>\n",
       "      <td>-73.99076</td>\n",
       "      <td>-0.373600</td>\n",
       "      <td>3.0</td>\n",
       "      <td>10.0</td>\n",
       "      <td>0.36</td>\n",
       "      <td>1923</td>\n",
       "      <td>2226</td>\n",
       "      <td>2</td>\n",
       "      <td>35</td>\n",
       "      <td>1</td>\n",
       "      <td>900</td>\n",
       "    </tr>\n",
       "    <tr>\n",
       "      <th>37996</th>\n",
       "      <td>40.68591</td>\n",
       "      <td>-73.91344</td>\n",
       "      <td>-0.448553</td>\n",
       "      <td>1.0</td>\n",
       "      <td>18.0</td>\n",
       "      <td>0.41</td>\n",
       "      <td>15405</td>\n",
       "      <td>566</td>\n",
       "      <td>1</td>\n",
       "      <td>28</td>\n",
       "      <td>1</td>\n",
       "      <td>1195</td>\n",
       "    </tr>\n",
       "    <tr>\n",
       "      <th>37998</th>\n",
       "      <td>40.83555</td>\n",
       "      <td>-73.87570</td>\n",
       "      <td>-0.531833</td>\n",
       "      <td>3.0</td>\n",
       "      <td>38.0</td>\n",
       "      <td>1.82</td>\n",
       "      <td>15335</td>\n",
       "      <td>1937</td>\n",
       "      <td>0</td>\n",
       "      <td>150</td>\n",
       "      <td>1</td>\n",
       "      <td>1686</td>\n",
       "    </tr>\n",
       "    <tr>\n",
       "      <th>37999</th>\n",
       "      <td>40.70936</td>\n",
       "      <td>-73.94370</td>\n",
       "      <td>-0.323632</td>\n",
       "      <td>2.0</td>\n",
       "      <td>16.0</td>\n",
       "      <td>1.55</td>\n",
       "      <td>15509</td>\n",
       "      <td>3949</td>\n",
       "      <td>1</td>\n",
       "      <td>212</td>\n",
       "      <td>1</td>\n",
       "      <td>1558</td>\n",
       "    </tr>\n",
       "  </tbody>\n",
       "</table>\n",
       "<p>30156 rows × 12 columns</p>\n",
       "</div>"
      ],
      "text/plain": [
       "       latitude  longitude     price  minimum_nights  number_of_reviews  \\\n",
       "0      40.68533  -73.96808 -0.015493             2.0               20.0   \n",
       "1      40.70492  -73.93341 -0.406912             1.0               25.0   \n",
       "2      40.81064  -73.95734 -0.011329            14.0                6.0   \n",
       "3      40.82665  -73.94669 -0.431897             2.0               52.0   \n",
       "5      40.81251  -73.94524 -0.240351             1.0                2.0   \n",
       "...         ...        ...       ...             ...                ...   \n",
       "37993  40.66892  -73.99136  0.051131             3.0                NaN   \n",
       "37994  40.71569  -73.99076 -0.373600             3.0               10.0   \n",
       "37996  40.68591  -73.91344 -0.448553             1.0               18.0   \n",
       "37998  40.83555  -73.87570 -0.531833             3.0               38.0   \n",
       "37999  40.70936  -73.94370 -0.323632             2.0               16.0   \n",
       "\n",
       "       reviews_per_month   name  host_name  neighbourhood_group  \\\n",
       "0                   0.24   3624       1427                    1   \n",
       "1                   0.96  11413       6107                    1   \n",
       "2                   0.41  26563       5341                    2   \n",
       "3                   1.95  10760       7080                    2   \n",
       "5                   0.06  12268       3096                    2   \n",
       "...                  ...    ...        ...                  ...   \n",
       "37993               3.70  26649       5334                    1   \n",
       "37994               0.36   1923       2226                    2   \n",
       "37996               0.41  15405        566                    1   \n",
       "37998               1.82  15335       1937                    0   \n",
       "37999               1.55  15509       3949                    1   \n",
       "\n",
       "       neighbourhood  room_type  last_review  \n",
       "0                 41          0         1502  \n",
       "1                212          1         1502  \n",
       "2                129          1         1311  \n",
       "3                 93          2         1609  \n",
       "5                 93          0          631  \n",
       "...              ...        ...          ...  \n",
       "37993             84          0         1677  \n",
       "37994             35          1          900  \n",
       "37996             28          1         1195  \n",
       "37998            150          1         1686  \n",
       "37999            212          1         1558  \n",
       "\n",
       "[30156 rows x 12 columns]"
      ]
     },
     "execution_count": 36,
     "metadata": {},
     "output_type": "execute_result"
    }
   ],
   "source": [
    "df = pd.concat([a,b], axis = 1)\n",
    "df"
   ]
  },
  {
   "cell_type": "code",
   "execution_count": 37,
   "metadata": {},
   "outputs": [],
   "source": [
    "df = df.dropna()\n",
    "\n",
    "y = df.pop('price')\n",
    "X_train, X_test, y_train, y_test = train_test_split(df, y,\n",
    "                                                    test_size=0.33, random_state=42)"
   ]
  },
  {
   "cell_type": "code",
   "execution_count": 38,
   "metadata": {},
   "outputs": [],
   "source": [
    "# svr.fit(X_train, y_train)\n",
    "\n",
    "# score(y_train, svr.predict(X_train))"
   ]
  },
  {
   "cell_type": "code",
   "execution_count": 44,
   "metadata": {},
   "outputs": [
    {
     "name": "stderr",
     "output_type": "stream",
     "text": [
      "/opt/conda/lib/python3.7/site-packages/xgboost/core.py:587: FutureWarning: Series.base is deprecated and will be removed in a future version\n",
      "  if getattr(data, 'base', None) is not None and \\\n"
     ]
    },
    {
     "name": "stdout",
     "output_type": "stream",
     "text": [
      "---\n",
      "R2,  0.997529207145057\n",
      "mse,  0.00033000083985259616\n",
      "mae,  0.012282115167590996\n",
      "rmse,  0.018165925240752154\n",
      "---\n",
      "---\n",
      "R2,  0.40468347342825384\n",
      "mse,  0.07398996152861939\n",
      "mae,  0.1901728742662373\n",
      "rmse,  0.27201095847156487\n",
      "---\n"
     ]
    }
   ],
   "source": [
    "xgbreg = XGB_train_score(X_train, y_train)\n",
    "score(y_test, xgbreg.predict(X_test))\n",
    "# XGB_train_score(X_test, y_test)"
   ]
  },
  {
   "cell_type": "code",
   "execution_count": 45,
   "metadata": {},
   "outputs": [
    {
     "data": {
      "text/plain": [
       "array([0.03050613, 0.04775161, 0.03358996, 0.02545964, 0.02581939,\n",
       "       0.03125326, 0.02549286, 0.02100731, 0.0317568 , 0.69983804,\n",
       "       0.02752501], dtype=float32)"
      ]
     },
     "execution_count": 45,
     "metadata": {},
     "output_type": "execute_result"
    }
   ],
   "source": [
    "xgbreg.feature_importances_"
   ]
  },
  {
   "cell_type": "code",
   "execution_count": 43,
   "metadata": {},
   "outputs": [
    {
     "name": "stdout",
     "output_type": "stream",
     "text": [
      "---\n",
      "R2,  0.4355133665223023\n",
      "mse,  0.07539323369846067\n",
      "mae,  0.1828956911640082\n",
      "rmse,  0.27457828337008133\n",
      "---\n",
      "---\n",
      "R2,  0.44441734673636835\n",
      "mse,  0.06905156720185596\n",
      "mae,  0.17750227753359385\n",
      "rmse,  0.26277664888999547\n",
      "---\n"
     ]
    }
   ],
   "source": [
    "RFreg = RF_train_score(X_train, y_train)\n",
    "score(y_test, RFreg.predict(X_test))\n"
   ]
  },
  {
   "cell_type": "code",
   "execution_count": 46,
   "metadata": {},
   "outputs": [
    {
     "data": {
      "text/plain": [
       "array([6.42881810e-02, 1.49489300e-01, 1.01031590e-02, 2.90641644e-05,\n",
       "       1.33475445e-02, 1.97529971e-03, 2.37411783e-04, 3.36455273e-05,\n",
       "       1.32289672e-02, 7.42967162e-01, 4.30026440e-03])"
      ]
     },
     "execution_count": 46,
     "metadata": {},
     "output_type": "execute_result"
    }
   ],
   "source": [
    "RFreg.feature_importances_"
   ]
  },
  {
   "cell_type": "code",
   "execution_count": null,
   "metadata": {},
   "outputs": [],
   "source": []
  }
 ],
 "metadata": {
  "kernelspec": {
   "display_name": "Python 3",
   "language": "python",
   "name": "python3"
  },
  "language_info": {
   "codemirror_mode": {
    "name": "ipython",
    "version": 3
   },
   "file_extension": ".py",
   "mimetype": "text/x-python",
   "name": "python",
   "nbconvert_exporter": "python",
   "pygments_lexer": "ipython3",
   "version": "3.7.3"
  }
 },
 "nbformat": 4,
 "nbformat_minor": 4
}
