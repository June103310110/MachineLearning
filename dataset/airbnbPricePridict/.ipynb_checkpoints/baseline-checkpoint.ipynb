{
 "cells": [
  {
   "cell_type": "code",
   "execution_count": 21,
   "metadata": {},
   "outputs": [],
   "source": [
    "import pandas as pd"
   ]
  },
  {
   "cell_type": "code",
   "execution_count": 22,
   "metadata": {},
   "outputs": [
    {
     "data": {
      "text/plain": [
       "48895"
      ]
     },
     "execution_count": 22,
     "metadata": {},
     "output_type": "execute_result"
    }
   ],
   "source": [
    "df = pd.read_csv('./dataset/AB_NYC_2019.csv')\n",
    "len(df)"
   ]
  },
  {
   "cell_type": "code",
   "execution_count": 23,
   "metadata": {},
   "outputs": [
    {
     "data": {
      "text/plain": [
       "16"
      ]
     },
     "execution_count": 23,
     "metadata": {},
     "output_type": "execute_result"
    }
   ],
   "source": [
    "len(df.columns)"
   ]
  },
  {
   "cell_type": "code",
   "execution_count": 24,
   "metadata": {},
   "outputs": [],
   "source": [
    "df.drop(['id', 'calculated_host_listings_count', 'availability_365'], axis = 1, inplace = True)"
   ]
  },
  {
   "cell_type": "code",
   "execution_count": 25,
   "metadata": {},
   "outputs": [],
   "source": [
    "df.to_csv('./dataset/refine_booking_NYC.csv')\n"
   ]
  },
  {
   "cell_type": "code",
   "execution_count": 26,
   "metadata": {},
   "outputs": [],
   "source": [
    "from sklearn.utils import shuffle\n",
    "df_shuffle = shuffle(df)"
   ]
  },
  {
   "cell_type": "code",
   "execution_count": 27,
   "metadata": {},
   "outputs": [],
   "source": [
    "len(df_shuffle)\n",
    "num = 38000\n",
    "df_tr = df_shuffle[:num] \n",
    "df_te = df_shuffle[num:]"
   ]
  },
  {
   "cell_type": "code",
   "execution_count": 29,
   "metadata": {},
   "outputs": [],
   "source": [
    "df_tr.to_csv('./dataset/train.csv', index=False)\n",
    "df_te.to_csv('./dataset/test.csv', index=False)"
   ]
  },
  {
   "cell_type": "raw",
   "metadata": {},
   "source": [
    "# ============\n",
    "# 查詢為什麼不能label_enc\n",
    "\n",
    "# z = df_shuffle['name'].values\n",
    "\n",
    "# for i in range(len(z)):\n",
    "#     if isinstance(z[i],str):\n",
    "#         pass\n",
    "#     else:\n",
    "#         print(z[i])\n",
    "#         print(i)"
   ]
  },
  {
   "cell_type": "markdown",
   "metadata": {},
   "source": [
    "## 使用train.csv建立baseline"
   ]
  },
  {
   "cell_type": "code",
   "execution_count": 30,
   "metadata": {},
   "outputs": [
    {
     "data": {
      "text/plain": [
       "38000"
      ]
     },
     "execution_count": 30,
     "metadata": {},
     "output_type": "execute_result"
    }
   ],
   "source": [
    "df = pd.read_csv('./dataset/train.csv')\n",
    "len(df)"
   ]
  },
  {
   "cell_type": "code",
   "execution_count": 31,
   "metadata": {},
   "outputs": [
    {
     "data": {
      "text/html": [
       "<div>\n",
       "<style scoped>\n",
       "    .dataframe tbody tr th:only-of-type {\n",
       "        vertical-align: middle;\n",
       "    }\n",
       "\n",
       "    .dataframe tbody tr th {\n",
       "        vertical-align: top;\n",
       "    }\n",
       "\n",
       "    .dataframe thead th {\n",
       "        text-align: right;\n",
       "    }\n",
       "</style>\n",
       "<table border=\"1\" class=\"dataframe\">\n",
       "  <thead>\n",
       "    <tr style=\"text-align: right;\">\n",
       "      <th></th>\n",
       "      <th>name</th>\n",
       "      <th>host_id</th>\n",
       "      <th>host_name</th>\n",
       "      <th>neighbourhood_group</th>\n",
       "      <th>neighbourhood</th>\n",
       "      <th>latitude</th>\n",
       "      <th>longitude</th>\n",
       "      <th>room_type</th>\n",
       "      <th>price</th>\n",
       "      <th>minimum_nights</th>\n",
       "      <th>number_of_reviews</th>\n",
       "      <th>last_review</th>\n",
       "      <th>reviews_per_month</th>\n",
       "    </tr>\n",
       "  </thead>\n",
       "  <tbody>\n",
       "    <tr>\n",
       "      <th>0</th>\n",
       "      <td>Cozy Flat - Walk to Central Park</td>\n",
       "      <td>19385850</td>\n",
       "      <td>Jonathan</td>\n",
       "      <td>Manhattan</td>\n",
       "      <td>Upper East Side</td>\n",
       "      <td>40.78281</td>\n",
       "      <td>-73.94516</td>\n",
       "      <td>Entire home/apt</td>\n",
       "      <td>143</td>\n",
       "      <td>2</td>\n",
       "      <td>88</td>\n",
       "      <td>2019-06-25</td>\n",
       "      <td>4.90</td>\n",
       "    </tr>\n",
       "    <tr>\n",
       "      <th>1</th>\n",
       "      <td>SUNNY BEDROOM IN BROOKLYN BROWNSTON</td>\n",
       "      <td>10366292</td>\n",
       "      <td>Lea</td>\n",
       "      <td>Brooklyn</td>\n",
       "      <td>Clinton Hill</td>\n",
       "      <td>40.68522</td>\n",
       "      <td>-73.96326</td>\n",
       "      <td>Private room</td>\n",
       "      <td>75</td>\n",
       "      <td>1</td>\n",
       "      <td>0</td>\n",
       "      <td>NaN</td>\n",
       "      <td>NaN</td>\n",
       "    </tr>\n",
       "    <tr>\n",
       "      <th>2</th>\n",
       "      <td>Sunny, Cozy Double Room in Brooklyn</td>\n",
       "      <td>34991003</td>\n",
       "      <td>Karen</td>\n",
       "      <td>Brooklyn</td>\n",
       "      <td>East Flatbush</td>\n",
       "      <td>40.64580</td>\n",
       "      <td>-73.92384</td>\n",
       "      <td>Private room</td>\n",
       "      <td>35</td>\n",
       "      <td>7</td>\n",
       "      <td>9</td>\n",
       "      <td>2019-05-20</td>\n",
       "      <td>0.39</td>\n",
       "    </tr>\n",
       "    <tr>\n",
       "      <th>3</th>\n",
       "      <td>Amazing private room!!! near subway &amp; Broadway2</td>\n",
       "      <td>248161322</td>\n",
       "      <td>Sergii</td>\n",
       "      <td>Brooklyn</td>\n",
       "      <td>Bushwick</td>\n",
       "      <td>40.70024</td>\n",
       "      <td>-73.93920</td>\n",
       "      <td>Private room</td>\n",
       "      <td>64</td>\n",
       "      <td>30</td>\n",
       "      <td>0</td>\n",
       "      <td>NaN</td>\n",
       "      <td>NaN</td>\n",
       "    </tr>\n",
       "    <tr>\n",
       "      <th>4</th>\n",
       "      <td>Perfect Little Gem in the East Village</td>\n",
       "      <td>171331943</td>\n",
       "      <td>Marko</td>\n",
       "      <td>Manhattan</td>\n",
       "      <td>East Village</td>\n",
       "      <td>40.72882</td>\n",
       "      <td>-73.98103</td>\n",
       "      <td>Entire home/apt</td>\n",
       "      <td>160</td>\n",
       "      <td>3</td>\n",
       "      <td>6</td>\n",
       "      <td>2019-07-02</td>\n",
       "      <td>6.00</td>\n",
       "    </tr>\n",
       "  </tbody>\n",
       "</table>\n",
       "</div>"
      ],
      "text/plain": [
       "                                              name    host_id host_name  \\\n",
       "0                 Cozy Flat - Walk to Central Park   19385850  Jonathan   \n",
       "1              SUNNY BEDROOM IN BROOKLYN BROWNSTON   10366292       Lea   \n",
       "2              Sunny, Cozy Double Room in Brooklyn   34991003     Karen   \n",
       "3  Amazing private room!!! near subway & Broadway2  248161322    Sergii   \n",
       "4           Perfect Little Gem in the East Village  171331943     Marko   \n",
       "\n",
       "  neighbourhood_group    neighbourhood  latitude  longitude        room_type  \\\n",
       "0           Manhattan  Upper East Side  40.78281  -73.94516  Entire home/apt   \n",
       "1            Brooklyn     Clinton Hill  40.68522  -73.96326     Private room   \n",
       "2            Brooklyn    East Flatbush  40.64580  -73.92384     Private room   \n",
       "3            Brooklyn         Bushwick  40.70024  -73.93920     Private room   \n",
       "4           Manhattan     East Village  40.72882  -73.98103  Entire home/apt   \n",
       "\n",
       "   price  minimum_nights  number_of_reviews last_review  reviews_per_month  \n",
       "0    143               2                 88  2019-06-25               4.90  \n",
       "1     75               1                  0         NaN                NaN  \n",
       "2     35               7                  9  2019-05-20               0.39  \n",
       "3     64              30                  0         NaN                NaN  \n",
       "4    160               3                  6  2019-07-02               6.00  "
      ]
     },
     "execution_count": 31,
     "metadata": {},
     "output_type": "execute_result"
    }
   ],
   "source": [
    "df.head()"
   ]
  },
  {
   "cell_type": "code",
   "execution_count": 32,
   "metadata": {},
   "outputs": [
    {
     "data": {
      "text/plain": [
       "name                    True\n",
       "host_id                False\n",
       "host_name               True\n",
       "neighbourhood_group    False\n",
       "neighbourhood          False\n",
       "latitude               False\n",
       "longitude              False\n",
       "room_type              False\n",
       "price                  False\n",
       "minimum_nights         False\n",
       "number_of_reviews      False\n",
       "last_review             True\n",
       "reviews_per_month       True\n",
       "dtype: bool"
      ]
     },
     "execution_count": 32,
     "metadata": {},
     "output_type": "execute_result"
    }
   ],
   "source": [
    "df.isnull().any()"
   ]
  },
  {
   "cell_type": "code",
   "execution_count": 33,
   "metadata": {},
   "outputs": [
    {
     "data": {
      "text/plain": [
       "name                   False\n",
       "host_id                False\n",
       "host_name              False\n",
       "neighbourhood_group    False\n",
       "neighbourhood          False\n",
       "latitude               False\n",
       "longitude              False\n",
       "room_type              False\n",
       "price                  False\n",
       "minimum_nights         False\n",
       "number_of_reviews      False\n",
       "last_review            False\n",
       "reviews_per_month      False\n",
       "dtype: bool"
      ]
     },
     "execution_count": 33,
     "metadata": {},
     "output_type": "execute_result"
    }
   ],
   "source": [
    "df = df.dropna()\n",
    "df.isnull().any()"
   ]
  },
  {
   "cell_type": "code",
   "execution_count": 35,
   "metadata": {},
   "outputs": [
    {
     "data": {
      "text/plain": [
       "30129"
      ]
     },
     "execution_count": 35,
     "metadata": {},
     "output_type": "execute_result"
    }
   ],
   "source": [
    "len(df)"
   ]
  },
  {
   "cell_type": "code",
   "execution_count": 38,
   "metadata": {},
   "outputs": [
    {
     "data": {
      "text/plain": [
       "Index(['name', 'host_name', 'neighbourhood_group', 'neighbourhood',\n",
       "       'room_type', 'last_review'],\n",
       "      dtype='object')"
      ]
     },
     "execution_count": 38,
     "metadata": {},
     "output_type": "execute_result"
    }
   ],
   "source": [
    "df.select_dtypes('object').columns"
   ]
  },
  {
   "cell_type": "code",
   "execution_count": 39,
   "metadata": {},
   "outputs": [
    {
     "data": {
      "text/plain": [
       "Index([], dtype='object')"
      ]
     },
     "execution_count": 39,
     "metadata": {},
     "output_type": "execute_result"
    }
   ],
   "source": [
    "from sklearn.preprocessing import LabelEncoder\n",
    "labelencoder = LabelEncoder()\n",
    "\n",
    "lis = df.select_dtypes('object').columns\n",
    "\n",
    "for i in lis:\n",
    "    df[i] = labelencoder.fit_transform(df[i])\n",
    "\n",
    "df.select_dtypes('object').columns"
   ]
  },
  {
   "cell_type": "code",
   "execution_count": null,
   "metadata": {},
   "outputs": [],
   "source": []
  },
  {
   "cell_type": "code",
   "execution_count": 41,
   "metadata": {},
   "outputs": [],
   "source": [
    "from sklearn.model_selection import train_test_split\n",
    "\n",
    "y = df.pop('price')\n",
    "\n",
    "X_train, X_test, y_train, y_test = train_test_split(df, y,\n",
    "                                                    test_size=0.33, random_state=42)\n",
    "\n"
   ]
  },
  {
   "cell_type": "code",
   "execution_count": 120,
   "metadata": {},
   "outputs": [],
   "source": [
    "# from sklearn.preprocessing import MinMaxScaler\n",
    "# scaler = MinMaxScaler()\n",
    "# X_train = scaler.fit_transform(X_train)\n",
    "# X_test = scaler.fit_transform(X_test)"
   ]
  },
  {
   "cell_type": "code",
   "execution_count": 42,
   "metadata": {},
   "outputs": [
    {
     "name": "stderr",
     "output_type": "stream",
     "text": [
      "/opt/conda/lib/python3.7/site-packages/sklearn/svm/base.py:193: FutureWarning: The default value of gamma will change from 'auto' to 'scale' in version 0.22 to account better for unscaled features. Set gamma explicitly to 'auto' or 'scale' to avoid this warning.\n",
      "  \"avoid this warning.\", FutureWarning)\n"
     ]
    },
    {
     "data": {
      "text/plain": [
       "SVR(C=1.0, cache_size=200, coef0=0.0, degree=3, epsilon=0.1,\n",
       "    gamma='auto_deprecated', kernel='rbf', max_iter=-1, shrinking=True,\n",
       "    tol=0.001, verbose=False)"
      ]
     },
     "execution_count": 42,
     "metadata": {},
     "output_type": "execute_result"
    }
   ],
   "source": [
    ">>> from sklearn.svm import SVR\n",
    "# >>> clf = make_pipeline(StandardScaler(), SVC(gamma='auto'))\n",
    "clf = SVR()\n",
    "clf.fit(X_train, y_train)"
   ]
  },
  {
   "cell_type": "code",
   "execution_count": 45,
   "metadata": {},
   "outputs": [],
   "source": [
    "from sklearn.metrics import r2_score\n",
    "from sklearn.metrics import mean_squared_error as mse\n",
    "\n",
    "def score(y_true, y_pred):\n",
    "# y_true = y_train\n",
    "# y_pred = clf.predict(X_train)\n",
    "    print('R2, ', r2_score(y_true, y_pred))\n",
    "    print('mse, ', mse(y_true, y_pred))\n"
   ]
  },
  {
   "cell_type": "code",
   "execution_count": 51,
   "metadata": {},
   "outputs": [
    {
     "data": {
      "text/plain": [
       "32014    145\n",
       "28239     58\n",
       "31112    175\n",
       "21752     50\n",
       "19680    149\n",
       "        ... \n",
       "37588    116\n",
       "6854     295\n",
       "1122      80\n",
       "19922    151\n",
       "29841    100\n",
       "Name: price, Length: 20186, dtype: int64"
      ]
     },
     "execution_count": 51,
     "metadata": {},
     "output_type": "execute_result"
    }
   ],
   "source": [
    "y_train"
   ]
  },
  {
   "cell_type": "code",
   "execution_count": 52,
   "metadata": {},
   "outputs": [
    {
     "name": "stderr",
     "output_type": "stream",
     "text": [
      "/opt/conda/lib/python3.7/site-packages/xgboost/core.py:587: FutureWarning: Series.base is deprecated and will be removed in a future version\n",
      "  if getattr(data, 'base', None) is not None and \\\n"
     ]
    },
    {
     "data": {
      "text/plain": [
       "XGBRegressor(base_score=0.5, booster='gbtree', colsample_bylevel=1,\n",
       "             colsample_bynode=1, colsample_bytree=1, eval_metric='mae', gamma=0,\n",
       "             importance_type='gain', learning_rate=0.3, max_delta_step=0,\n",
       "             max_depth=6, min_child_weight=1, missing=None, n_estimators=1000,\n",
       "             n_jobs=1, nthread=None, objective='reg:squarederror',\n",
       "             predictor='gpu_predictor', random_state=0, reg_alpha=0,\n",
       "             reg_lambda=1, scale_pos_weight=1, seed=1000, silent=None,\n",
       "             subsample=1, tree_method='gpu_hist', verbosity=1)"
      ]
     },
     "execution_count": 52,
     "metadata": {},
     "output_type": "execute_result"
    }
   ],
   "source": [
    "import xgboost as xgb\n",
    "xgb = xgb.XGBRegressor(\n",
    "        #樹的個數\n",
    "        n_estimators=1000,\n",
    "        # 如同學習率\n",
    "        learning_rate= 0.3, \n",
    "        # 構建樹的深度，越大越容易過擬合    \n",
    "        max_depth=6, \n",
    "        # 隨機取樣訓練樣本 訓練例項的子取樣比\n",
    "        subsample=1, \n",
    "        # 用於控制是否後剪枝的引數,越大越保守，一般0.1、0.2這樣子\n",
    "        gamma=0, \n",
    "        # 控制模型複雜度的權重值的L2正則化項引數，引數越大，模型越不容易過擬合。\n",
    "        reg_lambda=1,  \n",
    "        #隨機種子\n",
    "        seed=1000, \n",
    "        # L1 正則項引數\n",
    "#        reg_alpha=0,\n",
    "        # 設定成1則沒有執行資訊輸出，最好是設定為0.是否在執行升級時列印訊息。\n",
    "#        silent=0 ,\n",
    "        tree_method = 'gpu_hist', \n",
    "        predictor = 'gpu_predictor',\n",
    "        eval_metric= 'mae',\n",
    "        objective = 'reg:squarederror'\n",
    ")\n",
    "\n",
    "# 模型 訓練\n",
    "xgb.fit(X_train,y_train,eval_metric='mae')\n",
    "# 預測值\n",
    "\n"
   ]
  },
  {
   "cell_type": "code",
   "execution_count": null,
   "metadata": {},
   "outputs": [],
   "source": [
    "# y_pred=clf.predict(X_test)\n",
    "# score(y_train, y_pred)"
   ]
  },
  {
   "cell_type": "code",
   "execution_count": null,
   "metadata": {},
   "outputs": [],
   "source": []
  }
 ],
 "metadata": {
  "kernelspec": {
   "display_name": "Python 3",
   "language": "python",
   "name": "python3"
  },
  "language_info": {
   "codemirror_mode": {
    "name": "ipython",
    "version": 3
   },
   "file_extension": ".py",
   "mimetype": "text/x-python",
   "name": "python",
   "nbconvert_exporter": "python",
   "pygments_lexer": "ipython3",
   "version": "3.7.3"
  }
 },
 "nbformat": 4,
 "nbformat_minor": 4
}
