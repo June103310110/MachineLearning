{
 "cells": [
  {
   "cell_type": "markdown",
   "metadata": {},
   "source": [
    "## 目錄\n",
    "- Step 0. Loading dataset\n",
    "- Step 1. Data preprocessing\n",
    "    - Step 1.1 Creating Training and Testing sets\n",
    "    - Step 1.2 Scaling data\n",
    "    - Step 1.3 define sliding window function \n",
    "- Step 2. Build model\n",
    "    - Step 2.1 Build Model\n",
    "    - Step 2.2 Setting optimizer and make compile\n",
    "    - Step 2.3 Training model\n",
    "    - Step 2.4 model summary\n",
    "- Step 3. Plotting predictions from the network\n",
    "    - plot dataset\n",
    "- Practice\n",
    "    - 把Open、High、Low、Close跟Volume都當Feature"
   ]
  },
  {
   "cell_type": "markdown",
   "metadata": {},
   "source": [
    "# import package"
   ]
  },
  {
   "cell_type": "markdown",
   "metadata": {},
   "source": [
    "這份文件的資料集是Tesla從2014年到2017的股票歷史。"
   ]
  },
  {
   "cell_type": "code",
   "execution_count": 1,
   "metadata": {},
   "outputs": [],
   "source": [
    "import numpy as np\n",
    "import pandas as pd\n",
    "import matplotlib.pyplot as plt\n",
    "from pprint import pprint\n",
    "from sklearn.preprocessing import StandardScaler\n",
    "from sklearn.model_selection import train_test_split\n",
    "%matplotlib inline"
   ]
  },
  {
   "cell_type": "markdown",
   "metadata": {},
   "source": [
    "## Step 0. Loading dataset"
   ]
  },
  {
   "cell_type": "code",
   "execution_count": 2,
   "metadata": {},
   "outputs": [],
   "source": [
    "tesla_stocks = pd.read_csv('dataset/tesla_stocks.csv')"
   ]
  },
  {
   "cell_type": "code",
   "execution_count": 3,
   "metadata": {},
   "outputs": [
    {
     "data": {
      "text/html": [
       "<div>\n",
       "<style scoped>\n",
       "    .dataframe tbody tr th:only-of-type {\n",
       "        vertical-align: middle;\n",
       "    }\n",
       "\n",
       "    .dataframe tbody tr th {\n",
       "        vertical-align: top;\n",
       "    }\n",
       "\n",
       "    .dataframe thead th {\n",
       "        text-align: right;\n",
       "    }\n",
       "</style>\n",
       "<table border=\"1\" class=\"dataframe\">\n",
       "  <thead>\n",
       "    <tr style=\"text-align: right;\">\n",
       "      <th></th>\n",
       "      <th>Date</th>\n",
       "      <th>Open</th>\n",
       "      <th>High</th>\n",
       "      <th>Low</th>\n",
       "      <th>Close</th>\n",
       "      <th>Volume</th>\n",
       "    </tr>\n",
       "  </thead>\n",
       "  <tbody>\n",
       "    <tr>\n",
       "      <th>0</th>\n",
       "      <td>4-Aug-14</td>\n",
       "      <td>234.38</td>\n",
       "      <td>240.50</td>\n",
       "      <td>233.27</td>\n",
       "      <td>238.52</td>\n",
       "      <td>5967406</td>\n",
       "    </tr>\n",
       "    <tr>\n",
       "      <th>1</th>\n",
       "      <td>5-Aug-14</td>\n",
       "      <td>237.47</td>\n",
       "      <td>242.99</td>\n",
       "      <td>235.69</td>\n",
       "      <td>238.49</td>\n",
       "      <td>5388581</td>\n",
       "    </tr>\n",
       "    <tr>\n",
       "      <th>2</th>\n",
       "      <td>6-Aug-14</td>\n",
       "      <td>238.90</td>\n",
       "      <td>251.42</td>\n",
       "      <td>238.58</td>\n",
       "      <td>248.93</td>\n",
       "      <td>9249265</td>\n",
       "    </tr>\n",
       "    <tr>\n",
       "      <th>3</th>\n",
       "      <td>7-Aug-14</td>\n",
       "      <td>250.12</td>\n",
       "      <td>256.69</td>\n",
       "      <td>249.12</td>\n",
       "      <td>252.39</td>\n",
       "      <td>7478926</td>\n",
       "    </tr>\n",
       "    <tr>\n",
       "      <th>4</th>\n",
       "      <td>8-Aug-14</td>\n",
       "      <td>251.16</td>\n",
       "      <td>251.76</td>\n",
       "      <td>246.50</td>\n",
       "      <td>248.13</td>\n",
       "      <td>5099061</td>\n",
       "    </tr>\n",
       "  </tbody>\n",
       "</table>\n",
       "</div>"
      ],
      "text/plain": [
       "       Date    Open    High     Low   Close   Volume\n",
       "0  4-Aug-14  234.38  240.50  233.27  238.52  5967406\n",
       "1  5-Aug-14  237.47  242.99  235.69  238.49  5388581\n",
       "2  6-Aug-14  238.90  251.42  238.58  248.93  9249265\n",
       "3  7-Aug-14  250.12  256.69  249.12  252.39  7478926\n",
       "4  8-Aug-14  251.16  251.76  246.50  248.13  5099061"
      ]
     },
     "execution_count": 3,
     "metadata": {},
     "output_type": "execute_result"
    }
   ],
   "source": [
    "# 資料共有六個資訊，日期、開盤、當日最高、當日最低、收盤、成交量\n",
    "tesla_stocks.head()"
   ]
  },
  {
   "cell_type": "markdown",
   "metadata": {},
   "source": [
    "## Step 1. Data preprocessing"
   ]
  },
  {
   "cell_type": "code",
   "execution_count": 4,
   "metadata": {},
   "outputs": [],
   "source": [
    "# 簡化預測複雜度，我們只使用收盤價預測\n",
    "data_to_use = tesla_stocks['Close'].values"
   ]
  },
  {
   "cell_type": "code",
   "execution_count": 5,
   "metadata": {},
   "outputs": [
    {
     "name": "stdout",
     "output_type": "stream",
     "text": [
      "Total number of days in the dataset: 756\n"
     ]
    }
   ],
   "source": [
    "# 資料共有756天成交紀錄\n",
    "print('Total number of days in the dataset: {}'.format(len(data_to_use)))"
   ]
  },
  {
   "cell_type": "markdown",
   "metadata": {},
   "source": [
    "### Step 1.1 Creating Training and Testing sets\n",
    "分割資料時，必須要在進行標準化之前進行分割。因為標準化會基於所有資料點調整資料分佈，但我們希望測試資料不會受到訓練資料的任何影響。\n",
    "\n",
    "#### Note: 在做資料處理之前先分割資料很重要，不要汙染測試集。"
   ]
  },
  {
   "cell_type": "code",
   "execution_count": 6,
   "metadata": {},
   "outputs": [],
   "source": [
    "data_to_use = tesla_stocks['Close'].values"
   ]
  },
  {
   "cell_type": "code",
   "execution_count": 7,
   "metadata": {},
   "outputs": [
    {
     "name": "stdout",
     "output_type": "stream",
     "text": [
      "Total number of days in the dataset: 756\n"
     ]
    }
   ],
   "source": [
    "print('Total number of days in the dataset: {}'.format(len(data_to_use)))"
   ]
  },
  {
   "cell_type": "markdown",
   "metadata": {},
   "source": [
    "### Step 1.2 Scaling data"
   ]
  },
  {
   "cell_type": "code",
   "execution_count": 8,
   "metadata": {},
   "outputs": [],
   "source": [
    "# 使用sklearn套件將資料標準化(mean = 0, std = 1)\n",
    "scaler = StandardScaler()"
   ]
  },
  {
   "cell_type": "code",
   "execution_count": 9,
   "metadata": {},
   "outputs": [],
   "source": [
    "scaled_dataset = scaler.fit_transform(data_to_use.reshape(-1, 1))"
   ]
  },
  {
   "cell_type": "code",
   "execution_count": 10,
   "metadata": {},
   "outputs": [
    {
     "data": {
      "image/png": "[encoded data removed]",
      "text/plain": [
       "<Figure size 864x504 with 1 Axes>"
      ]
     },
     "metadata": {},
     "output_type": "display_data"
    }
   ],
   "source": [
    "from pandas.plotting import register_matplotlib_converters\n",
    "register_matplotlib_converters()\n",
    "\n",
    "tesla_stocks.Date = pd.to_datetime(tesla_stocks.Date)\n",
    "plt.figure(figsize=(12, 7), frameon=False, facecolor='brown', edgecolor='blue')\n",
    "plt.title('Scaled TESLA stocks from August 2014 to August 2017')\n",
    "plt.xlabel('Days')\n",
    "plt.ylabel('Scaled value of stocks')\n",
    "plt.plot(tesla_stocks.Date, scaled_dataset, label='Stocks data')\n",
    "plt.legend()\n",
    "plt.show()"
   ]
  },
  {
   "cell_type": "code",
   "execution_count": 11,
   "metadata": {},
   "outputs": [
    {
     "data": {
      "image/png": "[encoded data removed]",
      "text/plain": [
       "<Figure size 864x504 with 1 Axes>"
      ]
     },
     "metadata": {},
     "output_type": "display_data"
    }
   ],
   "source": [
    "a = 0\n",
    "b = 14\n",
    "register_matplotlib_converters()\n",
    "\n",
    "tesla_stocks.Date = pd.to_datetime(tesla_stocks.Date)\n",
    "plt.figure(figsize=(12, 7), frameon=False, facecolor='brown', edgecolor='blue')\n",
    "plt.title('Scaled TESLA stocks for a range')\n",
    "plt.xlabel('Days')\n",
    "plt.ylabel('Scaled value of stocks')\n",
    "plt.plot(tesla_stocks.Date[a:b], scaled_dataset[a:b], label='Stocks data')\n",
    "plt.legend()\n",
    "plt.show()"
   ]
  },
  {
   "cell_type": "code",
   "execution_count": 12,
   "metadata": {},
   "outputs": [],
   "source": [
    "# import numpy as np  \n",
    "# import matplotlib.pyplot as plt\n",
    "# a = 9\n",
    "# for i in range(a**2):\n",
    "#     plt.subplot(a,a,i+1)  \n",
    "#     plt.tick_params(\n",
    "#     axis='both',          # changes apply to the x-axis\n",
    "#     which='both',      # both major and minor ticks are affected\n",
    "#     bottom=False,      # ticks along the bottom edge are off\n",
    "#     top=False,         # ticks along the top edge are off\n",
    "#     labelleft=False,  \n",
    "#     labelbottom=False) \n",
    "#     plt.plot(tesla_stocks.Date[7*(i):14+7*i], X[i], label = '')  \n",
    "\n"
   ]
  },
  {
   "cell_type": "code",
   "execution_count": null,
   "metadata": {},
   "outputs": [],
   "source": []
  },
  {
   "cell_type": "code",
   "execution_count": null,
   "metadata": {},
   "outputs": [],
   "source": []
  },
  {
   "cell_type": "code",
   "execution_count": null,
   "metadata": {},
   "outputs": [],
   "source": []
  },
  {
   "cell_type": "code",
   "execution_count": null,
   "metadata": {},
   "outputs": [],
   "source": []
  },
  {
   "cell_type": "markdown",
   "metadata": {},
   "source": [
    "### Step 1.3 define sliding window function "
   ]
  },
  {
   "cell_type": "code",
   "execution_count": 13,
   "metadata": {},
   "outputs": [],
   "source": [
    "# 抓取window_size-1的資料作為觀察資料(x), 下一天作為預測資料(y)\n",
    "\n",
    "\n",
    "def window_data(data, window_size, stride):\n",
    "    X = []\n",
    "    y = []\n",
    "    i = 0\n",
    "    while (i + window_size) <= len(data) - 1:\n",
    "        X.append(data[i:i+window_size])\n",
    "        y.append(data[i+window_size])\n",
    "        i += stride\n",
    "    X = np.array(X)\n",
    "    y = np.array(y)\n",
    "    assert len(X) == len(y)\n",
    "    return X, y"
   ]
  },
  {
   "cell_type": "code",
   "execution_count": 14,
   "metadata": {},
   "outputs": [],
   "source": [
    "window_size = 14\n",
    "stride = 1\n",
    "X, y = window_data(scaled_dataset, window_size, stride)"
   ]
  },
  {
   "cell_type": "code",
   "execution_count": 15,
   "metadata": {},
   "outputs": [
    {
     "name": "stdout",
     "output_type": "stream",
     "text": [
      "X_train size: (700, 14, 1)\n",
      "y_train size: (700, 1)\n",
      "X_test size: (42, 14, 1)\n",
      "y_test size: (42, 1)\n"
     ]
    }
   ],
   "source": [
    "# days = int(0.9*len(X))\n",
    "days = 700\n",
    "X_train = np.array(X[:days])\n",
    "y_train = np.array(y[:days])\n",
    "\n",
    "X_test = np.array(X[days:])\n",
    "y_test = np.array(y[days:])\n",
    "\n",
    "print(\"X_train size: {}\".format(X_train.shape))\n",
    "print(\"y_train size: {}\".format(y_train.shape))\n",
    "print(\"X_test size: {}\".format(X_test.shape))\n",
    "print(\"y_test size: {}\".format(y_test.shape))"
   ]
  },
  {
   "cell_type": "code",
   "execution_count": 16,
   "metadata": {},
   "outputs": [
    {
     "name": "stdout",
     "output_type": "stream",
     "text": [
      "(42, 14, 1)\n",
      "(700, 14, 1)\n"
     ]
    }
   ],
   "source": [
    "print(X_test.shape)\n",
    "print(X_train.shape)"
   ]
  },
  {
   "cell_type": "markdown",
   "metadata": {},
   "source": [
    "### 計算分數"
   ]
  },
  {
   "cell_type": "code",
   "execution_count": 17,
   "metadata": {},
   "outputs": [],
   "source": [
    "from sklearn.metrics import r2_score\n",
    "from sklearn.metrics import mean_squared_error as mse\n",
    "from sklearn.metrics import mean_absolute_error as mae\n",
    "def score(y_true, y_pred):\n",
    "# y_true = y_train\n",
    "# y_pred = clf.predict(X_train)\n",
    "    print('---')\n",
    "    print('R2, ', r2_score(y_true, y_pred))\n",
    "    print('mse, ', mse(y_true, y_pred))\n",
    "    print('mae, ', mae(y_true, y_pred))\n",
    "    print('rmse, ', mse(y_true, y_pred) ** 0.5)\n",
    "    print('---')"
   ]
  },
  {
   "cell_type": "code",
   "execution_count": 18,
   "metadata": {},
   "outputs": [],
   "source": [
    "y_pred = [y_train.mean()]"
   ]
  },
  {
   "cell_type": "markdown",
   "metadata": {},
   "source": [
    "## Model1: Zero-Rule model"
   ]
  },
  {
   "cell_type": "code",
   "execution_count": 19,
   "metadata": {},
   "outputs": [
    {
     "name": "stdout",
     "output_type": "stream",
     "text": [
      "train\n",
      "---\n",
      "R2,  0.0\n",
      "mse,  0.6230737216460739\n",
      "mae,  0.6222525420387317\n",
      "rmse,  0.789350189488844\n",
      "---\n",
      "test\n",
      "---\n",
      "R2,  -26.695887720394605\n",
      "mse,  7.993274659519818\n",
      "mae,  2.7757280020086172\n",
      "rmse,  2.827237991312337\n",
      "---\n"
     ]
    }
   ],
   "source": [
    "print('train')\n",
    "score(y_train, y_pred*len(y_train))\n",
    "print('test')\n",
    "score(y_test, y_pred*len(y_test))"
   ]
  },
  {
   "cell_type": "markdown",
   "metadata": {},
   "source": [
    "## Model2: Moving Average\n",
    "對每一個短序列取平均"
   ]
  },
  {
   "cell_type": "code",
   "execution_count": 46,
   "metadata": {},
   "outputs": [
    {
     "data": {
      "text/plain": [
       "(742, 14, 1)"
      ]
     },
     "execution_count": 46,
     "metadata": {},
     "output_type": "execute_result"
    }
   ],
   "source": [
    "Xm = np.concatenate((X_train, X_test), axis=0)\n",
    "Xm.shape"
   ]
  },
  {
   "cell_type": "code",
   "execution_count": 47,
   "metadata": {},
   "outputs": [
    {
     "data": {
      "text/plain": [
       "(735,)"
      ]
     },
     "execution_count": 47,
     "metadata": {},
     "output_type": "execute_result"
    }
   ],
   "source": [
    "def Moving_average(data, window_size, stride):\n",
    "    X = []\n",
    "    y = []\n",
    "    i = 0\n",
    "    while (i + window_size) <= len(data) - 1:\n",
    "        X.append(data[i:i+window_size].mean())\n",
    "#         y.append(data[i:i+window_size].mean())\n",
    "        i += stride\n",
    "    X = np.array(X)\n",
    "#     y = np.array(y)\n",
    "#     assert len(X) == len(y)\n",
    "    return X\n",
    "ym = Moving_average(Xm, 7, 1)\n",
    "ym.shape"
   ]
  },
  {
   "cell_type": "markdown",
   "metadata": {},
   "source": [
    "## Model3: Stacked LSTM"
   ]
  },
  {
   "cell_type": "code",
   "execution_count": 20,
   "metadata": {},
   "outputs": [],
   "source": [
    "from tensorflow.keras.models import Sequential\n",
    "from tensorflow.keras.layers import Dense, Dropout, LSTM, Input\n",
    "from tensorflow.keras.layers import TimeDistributed, Flatten\n",
    "from tensorflow.keras.optimizers import Adam\n",
    "from tensorflow.keras.models import Model"
   ]
  },
  {
   "cell_type": "code",
   "execution_count": null,
   "metadata": {
    "scrolled": true
   },
   "outputs": [
    {
     "name": "stdout",
     "output_type": "stream",
     "text": [
      "Model: \"StackedLSTM\"\n",
      "_________________________________________________________________\n",
      "Layer (type)                 Output Shape              Param #   \n",
      "=================================================================\n",
      "input_4 (InputLayer)         [(None, 14, 1)]           0         \n",
      "_________________________________________________________________\n",
      "lstm_6 (LSTM)                (None, 14, 16)            1152      \n",
      "_________________________________________________________________\n",
      "lstm_7 (LSTM)                (None, 16)                2112      \n",
      "_________________________________________________________________\n",
      "flatten_4 (Flatten)          (None, 16)                0         \n",
      "_________________________________________________________________\n",
      "dense_4 (Dense)              (None, 1)                 17        \n",
      "=================================================================\n",
      "Total params: 3,281\n",
      "Trainable params: 3,281\n",
      "Non-trainable params: 0\n",
      "_________________________________________________________________\n"
     ]
    }
   ],
   "source": [
    "def LSTM_def():\n",
    "    inputs = Input(shape=(window_size, 1))\n",
    "    lstm1 = LSTM(units=16, activation='relu', return_sequences=True)(inputs)\n",
    "    lstm2 = LSTM(units=16, activation='relu', return_sequences=False)(lstm1)\n",
    "    flat = Flatten()(lstm2)\n",
    "    outputs = Dense(units=1)(flat)\n",
    "\n",
    "    model = Model(name = 'StackedLSTM',inputs=inputs, outputs=outputs)\n",
    "\n",
    "    model.summary()\n",
    "    return model\n",
    "def LSTM_train_score(X_train, y_train, X_valid, y_valid):\n",
    "    model = LSTM_def()\n",
    "    opt = Adam(lr=0.001, decay=1e-6, clipvalue=5)\n",
    "    model.compile(loss='mse', optimizer=opt, metrics=['mse'])\n",
    "    model.fit(X_train, y_train, epochs=100, verbose = False)\n",
    "    score(y_train, model.predict(X_train))\n",
    "    return model\n",
    "lstm = LSTM_train_score(X_train, y_train, None, None)"
   ]
  },
  {
   "cell_type": "markdown",
   "metadata": {},
   "source": [
    "### LSTM"
   ]
  },
  {
   "cell_type": "code",
   "execution_count": 52,
   "metadata": {},
   "outputs": [
    {
     "name": "stdout",
     "output_type": "stream",
     "text": [
      "y_train\n",
      "---\n",
      "R2,  0.9710883461316718\n",
      "mse,  0.018014091774682345\n",
      "mae,  0.09779396215591366\n",
      "rmse,  0.13421658531896252\n",
      "---\n",
      "y_test\n",
      "---\n",
      "R2,  0.2517680120843254\n",
      "mse,  0.21594627508705422\n",
      "mae,  0.3543394306164367\n",
      "rmse,  0.464700199146777\n",
      "---\n"
     ]
    }
   ],
   "source": [
    "print('y_train')\n",
    "score(y_train, lstm.predict(X_train))\n",
    "print('y_test')\n",
    "score(y_test, lstm.predict(X_test))"
   ]
  },
  {
   "cell_type": "markdown",
   "metadata": {},
   "source": [
    "## Model4: Conv1D"
   ]
  },
  {
   "cell_type": "code",
   "execution_count": 35,
   "metadata": {
    "scrolled": true
   },
   "outputs": [
    {
     "name": "stdout",
     "output_type": "stream",
     "text": [
      "(None, 14, 1)\n",
      "Model: \"sequential\"\n",
      "_________________________________________________________________\n",
      "Layer (type)                 Output Shape              Param #   \n",
      "=================================================================\n",
      "conv1d (Conv1D)              (None, 12, 16)            64        \n",
      "_________________________________________________________________\n",
      "conv1d_1 (Conv1D)            (None, 10, 16)            784       \n",
      "_________________________________________________________________\n",
      "flatten_1 (Flatten)          (None, 160)               0         \n",
      "_________________________________________________________________\n",
      "dense_1 (Dense)              (None, 1)                 161       \n",
      "=================================================================\n",
      "Total params: 1,009\n",
      "Trainable params: 1,009\n",
      "Non-trainable params: 0\n",
      "_________________________________________________________________\n",
      "Train on 700 samples\n",
      "Epoch 1/100\n",
      "700/700 [==============================] - 2s 3ms/sample - loss: 0.2253 - mse: 0.2253\n",
      "Epoch 2/100\n",
      "700/700 [==============================] - 0s 68us/sample - loss: 0.0939 - mse: 0.0939\n",
      "Epoch 3/100\n",
      "700/700 [==============================] - 0s 68us/sample - loss: 0.0831 - mse: 0.0831\n",
      "Epoch 4/100\n",
      "700/700 [==============================] - 0s 68us/sample - loss: 0.0764 - mse: 0.0764\n",
      "Epoch 5/100\n",
      "700/700 [==============================] - 0s 68us/sample - loss: 0.0716 - mse: 0.0716\n",
      "Epoch 6/100\n",
      "700/700 [==============================] - 0s 67us/sample - loss: 0.0660 - mse: 0.0660\n",
      "Epoch 7/100\n",
      "700/700 [==============================] - 0s 70us/sample - loss: 0.0607 - mse: 0.0607\n",
      "Epoch 8/100\n",
      "700/700 [==============================] - 0s 68us/sample - loss: 0.0540 - mse: 0.0540\n",
      "Epoch 9/100\n",
      "700/700 [==============================] - 0s 68us/sample - loss: 0.0498 - mse: 0.0498\n",
      "Epoch 10/100\n",
      "700/700 [==============================] - 0s 68us/sample - loss: 0.0450 - mse: 0.0450\n",
      "Epoch 11/100\n",
      "700/700 [==============================] - 0s 67us/sample - loss: 0.0409 - mse: 0.0409\n",
      "Epoch 12/100\n",
      "700/700 [==============================] - 0s 68us/sample - loss: 0.0383 - mse: 0.0383\n",
      "Epoch 13/100\n",
      "700/700 [==============================] - 0s 67us/sample - loss: 0.0370 - mse: 0.0370\n",
      "Epoch 14/100\n",
      "700/700 [==============================] - 0s 68us/sample - loss: 0.0328 - mse: 0.0328\n",
      "Epoch 15/100\n",
      "700/700 [==============================] - 0s 68us/sample - loss: 0.0315 - mse: 0.0315\n",
      "Epoch 16/100\n",
      "700/700 [==============================] - 0s 68us/sample - loss: 0.0302 - mse: 0.0302\n",
      "Epoch 17/100\n",
      "700/700 [==============================] - 0s 68us/sample - loss: 0.0303 - mse: 0.0303\n",
      "Epoch 18/100\n",
      "700/700 [==============================] - 0s 69us/sample - loss: 0.0315 - mse: 0.0315\n",
      "Epoch 19/100\n",
      "700/700 [==============================] - 0s 68us/sample - loss: 0.0261 - mse: 0.0261\n",
      "Epoch 20/100\n",
      "700/700 [==============================] - 0s 67us/sample - loss: 0.0246 - mse: 0.0246\n",
      "Epoch 21/100\n",
      "700/700 [==============================] - 0s 71us/sample - loss: 0.0259 - mse: 0.0259\n",
      "Epoch 22/100\n",
      "700/700 [==============================] - 0s 67us/sample - loss: 0.0248 - mse: 0.0248\n",
      "Epoch 23/100\n",
      "700/700 [==============================] - 0s 67us/sample - loss: 0.0236 - mse: 0.0236\n",
      "Epoch 24/100\n",
      "700/700 [==============================] - 0s 68us/sample - loss: 0.0232 - mse: 0.0232\n",
      "Epoch 25/100\n",
      "700/700 [==============================] - 0s 67us/sample - loss: 0.0219 - mse: 0.0219\n",
      "Epoch 26/100\n",
      "700/700 [==============================] - 0s 68us/sample - loss: 0.0210 - mse: 0.0210\n",
      "Epoch 27/100\n",
      "700/700 [==============================] - 0s 68us/sample - loss: 0.0218 - mse: 0.0218\n",
      "Epoch 28/100\n",
      "700/700 [==============================] - 0s 67us/sample - loss: 0.0209 - mse: 0.0209\n",
      "Epoch 29/100\n",
      "700/700 [==============================] - 0s 71us/sample - loss: 0.0206 - mse: 0.0206\n",
      "Epoch 30/100\n",
      "700/700 [==============================] - 0s 67us/sample - loss: 0.0204 - mse: 0.0204\n",
      "Epoch 31/100\n",
      "700/700 [==============================] - 0s 67us/sample - loss: 0.0202 - mse: 0.0202\n",
      "Epoch 32/100\n",
      "700/700 [==============================] - 0s 68us/sample - loss: 0.0197 - mse: 0.0197\n",
      "Epoch 33/100\n",
      "700/700 [==============================] - 0s 68us/sample - loss: 0.0197 - mse: 0.0197\n",
      "Epoch 34/100\n",
      "700/700 [==============================] - 0s 68us/sample - loss: 0.0195 - mse: 0.0195\n",
      "Epoch 35/100\n",
      "700/700 [==============================] - 0s 67us/sample - loss: 0.0195 - mse: 0.0195\n",
      "Epoch 36/100\n",
      "700/700 [==============================] - 0s 67us/sample - loss: 0.0195 - mse: 0.0195\n",
      "Epoch 37/100\n",
      "700/700 [==============================] - 0s 67us/sample - loss: 0.0209 - mse: 0.0209\n",
      "Epoch 38/100\n",
      "700/700 [==============================] - 0s 67us/sample - loss: 0.0192 - mse: 0.0192\n",
      "Epoch 39/100\n",
      "700/700 [==============================] - 0s 67us/sample - loss: 0.0188 - mse: 0.0188\n",
      "Epoch 40/100\n",
      "700/700 [==============================] - 0s 68us/sample - loss: 0.0191 - mse: 0.0191\n",
      "Epoch 41/100\n",
      "700/700 [==============================] - 0s 68us/sample - loss: 0.0203 - mse: 0.0203\n",
      "Epoch 42/100\n",
      "700/700 [==============================] - 0s 68us/sample - loss: 0.0184 - mse: 0.0184\n",
      "Epoch 43/100\n",
      "700/700 [==============================] - 0s 67us/sample - loss: 0.0184 - mse: 0.0184\n",
      "Epoch 44/100\n",
      "700/700 [==============================] - 0s 67us/sample - loss: 0.0197 - mse: 0.0197\n",
      "Epoch 45/100\n",
      "700/700 [==============================] - 0s 68us/sample - loss: 0.0184 - mse: 0.0184\n",
      "Epoch 46/100\n",
      "700/700 [==============================] - 0s 68us/sample - loss: 0.0184 - mse: 0.0184\n",
      "Epoch 47/100\n",
      "700/700 [==============================] - 0s 68us/sample - loss: 0.0187 - mse: 0.0187\n",
      "Epoch 48/100\n",
      "700/700 [==============================] - 0s 67us/sample - loss: 0.0185 - mse: 0.0185\n",
      "Epoch 49/100\n",
      "700/700 [==============================] - 0s 67us/sample - loss: 0.0196 - mse: 0.0196\n",
      "Epoch 50/100\n",
      "700/700 [==============================] - 0s 68us/sample - loss: 0.0185 - mse: 0.0185\n",
      "Epoch 51/100\n",
      "700/700 [==============================] - 0s 67us/sample - loss: 0.0185 - mse: 0.0185\n",
      "Epoch 52/100\n",
      "700/700 [==============================] - 0s 67us/sample - loss: 0.0184 - mse: 0.0184\n",
      "Epoch 53/100\n",
      "700/700 [==============================] - 0s 67us/sample - loss: 0.0187 - mse: 0.0187\n",
      "Epoch 54/100\n",
      "700/700 [==============================] - 0s 67us/sample - loss: 0.0182 - mse: 0.0182\n",
      "Epoch 55/100\n",
      "700/700 [==============================] - 0s 67us/sample - loss: 0.0187 - mse: 0.0187\n",
      "Epoch 56/100\n",
      "700/700 [==============================] - 0s 67us/sample - loss: 0.0179 - mse: 0.0179\n",
      "Epoch 57/100\n",
      "700/700 [==============================] - 0s 67us/sample - loss: 0.0181 - mse: 0.0181\n",
      "Epoch 58/100\n",
      "700/700 [==============================] - 0s 68us/sample - loss: 0.0181 - mse: 0.0181\n",
      "Epoch 59/100\n",
      "700/700 [==============================] - 0s 68us/sample - loss: 0.0184 - mse: 0.0184\n",
      "Epoch 60/100\n",
      "700/700 [==============================] - 0s 68us/sample - loss: 0.0181 - mse: 0.0181\n",
      "Epoch 61/100\n",
      "700/700 [==============================] - 0s 68us/sample - loss: 0.0183 - mse: 0.0183\n",
      "Epoch 62/100\n",
      "700/700 [==============================] - 0s 68us/sample - loss: 0.0181 - mse: 0.0181\n",
      "Epoch 63/100\n",
      "700/700 [==============================] - 0s 68us/sample - loss: 0.0181 - mse: 0.0181\n",
      "Epoch 64/100\n",
      "700/700 [==============================] - 0s 68us/sample - loss: 0.0188 - mse: 0.0188\n",
      "Epoch 65/100\n",
      "700/700 [==============================] - 0s 68us/sample - loss: 0.0192 - mse: 0.0192\n",
      "Epoch 66/100\n",
      "700/700 [==============================] - 0s 68us/sample - loss: 0.0186 - mse: 0.0186\n",
      "Epoch 67/100\n",
      "700/700 [==============================] - 0s 69us/sample - loss: 0.0177 - mse: 0.0177\n",
      "Epoch 68/100\n",
      "700/700 [==============================] - 0s 68us/sample - loss: 0.0180 - mse: 0.0180\n",
      "Epoch 69/100\n",
      "700/700 [==============================] - 0s 68us/sample - loss: 0.0178 - mse: 0.0178\n",
      "Epoch 70/100\n",
      "700/700 [==============================] - 0s 68us/sample - loss: 0.0182 - mse: 0.0182\n",
      "Epoch 71/100\n",
      "700/700 [==============================] - 0s 68us/sample - loss: 0.0183 - mse: 0.0183\n",
      "Epoch 72/100\n",
      "700/700 [==============================] - 0s 67us/sample - loss: 0.0182 - mse: 0.0182\n",
      "Epoch 73/100\n",
      "700/700 [==============================] - 0s 67us/sample - loss: 0.0179 - mse: 0.0179\n",
      "Epoch 74/100\n",
      "700/700 [==============================] - 0s 67us/sample - loss: 0.0188 - mse: 0.0188\n",
      "Epoch 75/100\n",
      "700/700 [==============================] - 0s 69us/sample - loss: 0.0181 - mse: 0.0181\n",
      "Epoch 76/100\n",
      "700/700 [==============================] - 0s 68us/sample - loss: 0.0173 - mse: 0.0173\n",
      "Epoch 77/100\n",
      "700/700 [==============================] - 0s 77us/sample - loss: 0.0180 - mse: 0.0180\n",
      "Epoch 78/100\n",
      "700/700 [==============================] - 0s 70us/sample - loss: 0.0179 - mse: 0.0179\n",
      "Epoch 79/100\n",
      "700/700 [==============================] - 0s 67us/sample - loss: 0.0182 - mse: 0.0182\n",
      "Epoch 80/100\n",
      "700/700 [==============================] - 0s 68us/sample - loss: 0.0176 - mse: 0.0176\n",
      "Epoch 81/100\n",
      "700/700 [==============================] - 0s 67us/sample - loss: 0.0183 - mse: 0.0183\n",
      "Epoch 82/100\n",
      "700/700 [==============================] - 0s 69us/sample - loss: 0.0190 - mse: 0.0190\n",
      "Epoch 83/100\n",
      "700/700 [==============================] - 0s 67us/sample - loss: 0.0193 - mse: 0.0193\n",
      "Epoch 84/100\n",
      "700/700 [==============================] - 0s 67us/sample - loss: 0.0190 - mse: 0.0190\n",
      "Epoch 85/100\n",
      "700/700 [==============================] - 0s 71us/sample - loss: 0.0175 - mse: 0.0175\n",
      "Epoch 86/100\n",
      "700/700 [==============================] - 0s 67us/sample - loss: 0.0176 - mse: 0.0176\n",
      "Epoch 87/100\n",
      "700/700 [==============================] - 0s 67us/sample - loss: 0.0174 - mse: 0.0174\n",
      "Epoch 88/100\n",
      "700/700 [==============================] - 0s 68us/sample - loss: 0.0175 - mse: 0.0175\n",
      "Epoch 89/100\n",
      "700/700 [==============================] - 0s 67us/sample - loss: 0.0178 - mse: 0.0178\n",
      "Epoch 90/100\n",
      "700/700 [==============================] - 0s 67us/sample - loss: 0.0177 - mse: 0.0177\n",
      "Epoch 91/100\n",
      "700/700 [==============================] - 0s 67us/sample - loss: 0.0176 - mse: 0.0176\n",
      "Epoch 92/100\n",
      "700/700 [==============================] - 0s 67us/sample - loss: 0.0175 - mse: 0.0175\n",
      "Epoch 93/100\n",
      "700/700 [==============================] - 0s 68us/sample - loss: 0.0174 - mse: 0.0174\n",
      "Epoch 94/100\n",
      "700/700 [==============================] - 0s 67us/sample - loss: 0.0182 - mse: 0.0182\n",
      "Epoch 95/100\n",
      "700/700 [==============================] - 0s 68us/sample - loss: 0.0177 - mse: 0.0177\n",
      "Epoch 96/100\n",
      "700/700 [==============================] - 0s 67us/sample - loss: 0.0174 - mse: 0.0174\n",
      "Epoch 97/100\n",
      "700/700 [==============================] - 0s 67us/sample - loss: 0.0174 - mse: 0.0174\n",
      "Epoch 98/100\n",
      "700/700 [==============================] - 0s 67us/sample - loss: 0.0178 - mse: 0.0178\n",
      "Epoch 99/100\n",
      "700/700 [==============================] - 0s 67us/sample - loss: 0.0184 - mse: 0.0184\n",
      "Epoch 100/100\n",
      "700/700 [==============================] - 0s 68us/sample - loss: 0.0178 - mse: 0.0178\n",
      "---\n",
      "R2,  0.9725920880173513\n",
      "mse,  0.017077149721576944\n",
      "mae,  0.09682912565261285\n",
      "rmse,  0.13067956887584586\n",
      "---\n"
     ]
    }
   ],
   "source": [
    "from tensorflow.keras.models import Sequential, Model\n",
    "from tensorflow.keras.layers import Input,Dense, Activation, Conv1D, Flatten\n",
    "import tensorflow.keras as keras\n",
    "def Conv1d_def():\n",
    "    model = Sequential()\n",
    "    # inputs = Input(shape=(window_size,))\n",
    "    model.add(Conv1D(input_shape=(window_size, 1), filters = 16, kernel_size=3, strides=1, \\\n",
    "                     activation='relu'))\n",
    "    model.add(Conv1D(filters = 16, kernel_size=3, strides=1, \\\n",
    "                     activation='relu'))\n",
    "    model.add(Flatten()) #由於前面兩個conv1D的Kerner size都是3，所以原本長度是7的資料會變成3，而channels為16，所以一起攤平變成48\n",
    "    model.add(Dense(1)) #輸出一個值\n",
    "    print(model.input_shape) #可以把輸入的型態秀出來\n",
    "    model.summary()\n",
    "    return model\n",
    "def Conv1d_train_score(X_train, y_train):\n",
    "    Conv1d = Conv1d_def()\n",
    "    opt = keras.optimizers.Adam(lr=0.001, decay=1e-6, clipvalue=5)\n",
    "\n",
    "    Conv1d.compile( loss='mse', optimizer=opt, metrics=['mse'] )\n",
    "    Conv1d.fit(X_train, y_train, epochs=100, verbose = False)\n",
    "    \n",
    "    y_pred=Conv1d.predict(X_train)\n",
    "    \n",
    "    score(y_train, y_pred)\n",
    "    return Conv1d\n",
    "conv1d = Conv1d_train_score(X_train, y_train)"
   ]
  },
  {
   "cell_type": "markdown",
   "metadata": {},
   "source": [
    "### Conv1D"
   ]
  },
  {
   "cell_type": "code",
   "execution_count": 36,
   "metadata": {},
   "outputs": [
    {
     "name": "stdout",
     "output_type": "stream",
     "text": [
      "y_train\n",
      "---\n",
      "R2,  0.9725920880173513\n",
      "mse,  0.017077149721576944\n",
      "mae,  0.09682912565261285\n",
      "rmse,  0.13067956887584586\n",
      "---\n",
      "y_test\n",
      "---\n",
      "R2,  0.796584956344488\n",
      "mse,  0.058707355049659876\n",
      "mae,  0.18110719051468055\n",
      "rmse,  0.2422960070856717\n",
      "---\n"
     ]
    }
   ],
   "source": [
    "print('y_train')\n",
    "score(y_train, conv1d.predict(X_train))\n",
    "print('y_test')\n",
    "score(y_test, conv1d.predict(X_test))"
   ]
  },
  {
   "cell_type": "markdown",
   "metadata": {},
   "source": [
    "## numpy squeeze"
   ]
  },
  {
   "cell_type": "code",
   "execution_count": null,
   "metadata": {},
   "outputs": [],
   "source": [
    "# y_train.reshape(-1,1)\n",
    "y_train.shape\n",
    "# np.squeeze(y_train).shape\n",
    "y_train[:10]\n",
    "np.squeeze(y_train)[:10]\n",
    "X_train.shape\n",
    "np.squeeze(X_train).shape\n",
    "\n",
    "red_X_train = np.squeeze(X_train)\n",
    "red_y_train = np.squeeze(y_train)\n",
    "red_X_test = np.squeeze(X_test)\n",
    "red_y_test = np.squeeze(y_test)"
   ]
  },
  {
   "cell_type": "markdown",
   "metadata": {},
   "source": [
    "## SVM"
   ]
  },
  {
   "cell_type": "code",
   "execution_count": 31,
   "metadata": {},
   "outputs": [
    {
     "name": "stderr",
     "output_type": "stream",
     "text": [
      "/opt/conda/lib/python3.7/site-packages/sklearn/svm/base.py:193: FutureWarning: The default value of gamma will change from 'auto' to 'scale' in version 0.22 to account better for unscaled features. Set gamma explicitly to 'auto' or 'scale' to avoid this warning.\n",
      "  \"avoid this warning.\", FutureWarning)\n"
     ]
    },
    {
     "data": {
      "text/plain": [
       "SVR(C=1.0, cache_size=200, coef0=0.0, degree=3, epsilon=0.1,\n",
       "    gamma='auto_deprecated', kernel='rbf', max_iter=-1, shrinking=True,\n",
       "    tol=0.001, verbose=False)"
      ]
     },
     "execution_count": 31,
     "metadata": {},
     "output_type": "execute_result"
    }
   ],
   "source": [
    "from sklearn.svm import SVR\n",
    "svr = SVR()\n",
    "svr.fit(red_X_train, red_y_train)"
   ]
  },
  {
   "cell_type": "code",
   "execution_count": 33,
   "metadata": {},
   "outputs": [
    {
     "name": "stdout",
     "output_type": "stream",
     "text": [
      "y_train\n",
      "---\n",
      "R2,  0.9709566584796129\n",
      "mse,  0.018096142890145543\n",
      "mae,  0.09688916229936048\n",
      "rmse,  0.13452190487108612\n",
      "---\n",
      "y_test\n",
      "---\n",
      "R2,  -9.025672667618203\n",
      "mse,  2.8934965395494916\n",
      "mae,  1.4571888038732193\n",
      "rmse,  1.7010280831160582\n",
      "---\n"
     ]
    }
   ],
   "source": [
    "print('y_train')\n",
    "score(red_y_train, svr.predict(red_X_train))\n",
    "print('y_test')\n",
    "score(red_y_test, svr.predict(red_X_test))"
   ]
  },
  {
   "cell_type": "markdown",
   "metadata": {},
   "source": [
    "## XGB reg"
   ]
  },
  {
   "cell_type": "code",
   "execution_count": 29,
   "metadata": {},
   "outputs": [
    {
     "name": "stdout",
     "output_type": "stream",
     "text": [
      "---\n",
      "R2,  0.9999976821996309\n",
      "mse,  1.4441605019809127e-06\n",
      "mae,  0.0008410994301076246\n",
      "rmse,  0.001201732292143684\n",
      "---\n",
      "---\n",
      "R2,  -0.6314173554124005\n",
      "mse,  0.4708412720967292\n",
      "mae,  0.5477936767386078\n",
      "rmse,  0.6861787464624135\n",
      "---\n"
     ]
    }
   ],
   "source": [
    "import xgboost as xgb\n",
    "\n",
    "def XGB_def():\n",
    "    xgbreg = xgb.XGBRegressor(\n",
    "    #樹的個數\n",
    "    n_estimators=1000,\n",
    "    # 如同學習率\n",
    "    learning_rate= 0.3, \n",
    "    # 構建樹的深度，越大越容易過擬合    \n",
    "    max_depth=6, \n",
    "    # 隨機取樣訓練樣本 訓練例項的子取樣比\n",
    "    subsample=1, \n",
    "    # 用於控制是否後剪枝的引數,越大越保守，一般0.1、0.2這樣子\n",
    "    gamma=0, \n",
    "    # 控制模型複雜度的權重值的L2正則化項引數，引數越大，模型越不容易過擬合。\n",
    "    reg_lambda=1,  \n",
    "    #隨機種子\n",
    "    seed=1000, \n",
    "    # L1 正則項引數\n",
    "#        reg_alpha=0,\n",
    "    #設定成1則沒有執行資訊輸出，最好是設定為0.是否在執行升級時列印訊息。\n",
    "    silent=0 ,\n",
    "#     tree_method = 'gpu_hist', \n",
    "#     predictor = 'gpu_predictor',\n",
    "    eval_metric= 'mse',\n",
    "    objective = 'reg:squarederror'\n",
    "    )\n",
    "    \n",
    "    return xgbreg\n",
    "\n",
    "# 定義xgb\n",
    "def XGB_train_score(X_train, y_train):\n",
    "    # 定義模型\n",
    "    xgbreg = XGB_def()\n",
    "    \n",
    "    # 模型 訓練\n",
    "    xgbreg.fit(X_train,y_train,eval_metric='rmse')\n",
    "\n",
    "    # 預測值\n",
    "    y_pred=xgbreg.predict(X_train)\n",
    "\n",
    "    # 評估\n",
    "    score(y_train, y_pred)\n",
    "    return xgbreg\n",
    "xgbreg = XGB_train_score(red_X_train, red_y_train)\n",
    "# score(red_y_train, xgbreg.predict(red_X_train))\n",
    "score(red_y_test, xgbreg.predict(red_X_test))"
   ]
  },
  {
   "cell_type": "code",
   "execution_count": null,
   "metadata": {},
   "outputs": [],
   "source": [
    "ym = Moving_average(Xm, 7, 1)"
   ]
  },
  {
   "cell_type": "markdown",
   "metadata": {},
   "source": [
    "### Moving Average"
   ]
  },
  {
   "cell_type": "code",
   "execution_count": 28,
   "metadata": {},
   "outputs": [
    {
     "name": "stdout",
     "output_type": "stream",
     "text": [
      "y_train\n",
      "---\n",
      "R2,  0.7347344536050756\n",
      "mse,  0.16500710715680225\n",
      "mae,  0.32696800754154465\n",
      "rmse,  0.40621066844286874\n",
      "---\n",
      "y_test\n",
      "---\n",
      "R2,  -0.6350715096849895\n",
      "mse,  0.51303260802608\n",
      "mae,  0.5825863142392584\n",
      "rmse,  0.7162629461490242\n",
      "---\n"
     ]
    }
   ],
   "source": [
    "print('y_train')\n",
    "score(y_train[7:], Moving_average(X_train, 7, 1))\n",
    "print('y_test')\n",
    "score(y_test[7:], Moving_average(X_test, 7, 1))"
   ]
  },
  {
   "cell_type": "code",
   "execution_count": null,
   "metadata": {},
   "outputs": [],
   "source": []
  },
  {
   "cell_type": "markdown",
   "metadata": {},
   "source": [
    "### Step 2.4 model summary"
   ]
  },
  {
   "cell_type": "code",
   "execution_count": 29,
   "metadata": {},
   "outputs": [],
   "source": [
    "# model.summary()"
   ]
  },
  {
   "cell_type": "markdown",
   "metadata": {},
   "source": [
    "## Step 3. Plotting predictions from the network"
   ]
  },
  {
   "cell_type": "code",
   "execution_count": 35,
   "metadata": {},
   "outputs": [],
   "source": [
    "# # Training set預測結果\n",
    "# training_set_pred = np.array([])\n",
    "\n",
    "# training_set_pred = model.predict(X_train)\n",
    "\n",
    "# # Testing set預測結果\n",
    "\n",
    "# testing_set_pred = model.predict(X_test)"
   ]
  },
  {
   "cell_type": "code",
   "execution_count": 37,
   "metadata": {},
   "outputs": [],
   "source": [
    "# Training set預測結果\n",
    "training_set_pred = np.array([])\n",
    "\n",
    "training_set_pred = conv1d.predict(X_train)\n",
    "\n",
    "# Testing set預測結果\n",
    "\n",
    "testing_set_pred = conv1d.predict(X_test)"
   ]
  },
  {
   "cell_type": "code",
   "execution_count": 38,
   "metadata": {},
   "outputs": [
    {
     "name": "stdout",
     "output_type": "stream",
     "text": [
      "testing_loss: [0.05870736]\n"
     ]
    }
   ],
   "source": [
    "# 把資料放到list裡面準備畫圖\n",
    "# 因為我們是用前七天預測第8天股價，故前七天設為None\n",
    "training = [None]*window_size\n",
    "for i in range(len(X_train)):\n",
    "    training.append(training_set_pred[i])\n",
    "    \n",
    "testing = [None] * (window_size + len(X_train))\n",
    "testing_loss = 0\n",
    "for i in range(len(X_test)):\n",
    "    testing.append(testing_set_pred[i])\n",
    "    training.append(None)\n",
    "    testing_loss += (testing_set_pred[i] - y_test[i])**2\n",
    "print('testing_loss:', testing_loss / len(X_test))"
   ]
  },
  {
   "cell_type": "code",
   "execution_count": 39,
   "metadata": {},
   "outputs": [],
   "source": [
    "Zero_y_pred = [y_train.mean()]*len(scaled_dataset)"
   ]
  },
  {
   "cell_type": "code",
   "execution_count": 41,
   "metadata": {},
   "outputs": [],
   "source": [
    "# mvAve = Moving_average(Xm, 7, 1)\n",
    "# len(scaled_dataset)"
   ]
  },
  {
   "cell_type": "code",
   "execution_count": 42,
   "metadata": {},
   "outputs": [],
   "source": [
    "# training = xgbreg.predict(red_X_train)\n",
    "# print(training.shape)\n",
    "# testing = xgbreg.predict(red_X_test)\n",
    "# print(testing.shape)"
   ]
  },
  {
   "cell_type": "markdown",
   "metadata": {},
   "source": [
    "### plot dataset"
   ]
  },
  {
   "cell_type": "code",
   "execution_count": 45,
   "metadata": {},
   "outputs": [
    {
     "data": {
      "image/png": "[encoded data removed]",
      "text/plain": [
       "<Figure size 1152x504 with 1 Axes>"
      ]
     },
     "metadata": {
      "needs_background": "light"
     },
     "output_type": "display_data"
    }
   ],
   "source": [
    "plt.figure(figsize=(16, 7))\n",
    "plt.plot(tesla_stocks.Date, scaled_dataset, label='Original data')\n",
    "# plt.plot(tesla_stocks.Date, Zero_y_pred, label='Zero Rule predict on all data')\n",
    "# plt.plot(tesla_stocks.Date[14:-7], mvAve, label='Moving_average predict on all data')\n",
    "\n",
    "plt.plot(tesla_stocks.Date, training, label='Predict on Training data')\n",
    "plt.plot(tesla_stocks.Date, testing, label='Predict on Testing data')\n",
    "plt.legend()\n",
    "plt.show()"
   ]
  },
  {
   "cell_type": "markdown",
   "metadata": {},
   "source": [
    "## Practice\n",
    "1. 把Open、High、Low、Close跟Volume都當Feature"
   ]
  },
  {
   "cell_type": "code",
   "execution_count": null,
   "metadata": {},
   "outputs": [],
   "source": []
  },
  {
   "cell_type": "code",
   "execution_count": null,
   "metadata": {},
   "outputs": [],
   "source": []
  },
  {
   "cell_type": "code",
   "execution_count": null,
   "metadata": {},
   "outputs": [],
   "source": []
  }
 ],
 "metadata": {
  "anaconda-cloud": {},
  "kernelspec": {
   "display_name": "Python 3",
   "language": "python",
   "name": "python3"
  },
  "language_info": {
   "codemirror_mode": {
    "name": "ipython",
    "version": 3
   },
   "file_extension": ".py",
   "mimetype": "text/x-python",
   "name": "python",
   "nbconvert_exporter": "python",
   "pygments_lexer": "ipython3",
   "version": "3.7.3"
  }
 },
 "nbformat": 4,
 "nbformat_minor": 4
}
