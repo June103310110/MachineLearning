{
 "cells": [
  {
   "cell_type": "markdown",
   "metadata": {},
   "source": [
    "## 目錄\n",
    "- Step 0. Loading dataset\n",
    "- Step 1. Data preprocessing\n",
    "    - Step 1.1 Creating Training and Testing sets\n",
    "    - Step 1.2 Scaling data\n",
    "    - Step 1.3 define sliding window function \n",
    "- Step 2. Build model\n",
    "    - Step 2.1 Build Model\n",
    "    - Step 2.2 Setting optimizer and make compile\n",
    "    - Step 2.3 Training model\n",
    "    - Step 2.4 model summary\n",
    "- Step 3. Plotting predictions from the network\n",
    "    - plot dataset\n",
    "- Practice\n",
    "    - 把Open、High、Low、Close跟Volume都當Feature"
   ]
  },
  {
   "cell_type": "code",
   "execution_count": null,
   "metadata": {},
   "outputs": [],
   "source": [
    "enable_model_list = {'lstm':False, 'conv1d':False, 'xgb':True}"
   ]
  },
  {
   "cell_type": "markdown",
   "metadata": {},
   "source": [
    "# import package"
   ]
  },
  {
   "cell_type": "markdown",
   "metadata": {},
   "source": [
    "這份文件的資料集是Tesla從2014年到2017的股票歷史。"
   ]
  },
  {
   "cell_type": "code",
   "execution_count": 2,
   "metadata": {},
   "outputs": [],
   "source": [
    "import numpy as np\n",
    "import pandas as pd\n",
    "import matplotlib.pyplot as plt\n",
    "from pprint import pprint\n",
    "from sklearn.preprocessing import StandardScaler\n",
    "from sklearn.model_selection import train_test_split\n",
    "%matplotlib inline"
   ]
  },
  {
   "cell_type": "markdown",
   "metadata": {},
   "source": [
    "## Step 0. Loading dataset"
   ]
  },
  {
   "cell_type": "code",
   "execution_count": 3,
   "metadata": {},
   "outputs": [],
   "source": [
    "tesla_stocks = pd.read_csv('dataset/tesla_stocks.csv')"
   ]
  },
  {
   "cell_type": "code",
   "execution_count": 4,
   "metadata": {},
   "outputs": [
    {
     "data": {
      "text/html": [
       "<div>\n",
       "<style scoped>\n",
       "    .dataframe tbody tr th:only-of-type {\n",
       "        vertical-align: middle;\n",
       "    }\n",
       "\n",
       "    .dataframe tbody tr th {\n",
       "        vertical-align: top;\n",
       "    }\n",
       "\n",
       "    .dataframe thead th {\n",
       "        text-align: right;\n",
       "    }\n",
       "</style>\n",
       "<table border=\"1\" class=\"dataframe\">\n",
       "  <thead>\n",
       "    <tr style=\"text-align: right;\">\n",
       "      <th></th>\n",
       "      <th>Date</th>\n",
       "      <th>Open</th>\n",
       "      <th>High</th>\n",
       "      <th>Low</th>\n",
       "      <th>Close</th>\n",
       "      <th>Volume</th>\n",
       "    </tr>\n",
       "  </thead>\n",
       "  <tbody>\n",
       "    <tr>\n",
       "      <th>0</th>\n",
       "      <td>4-Aug-14</td>\n",
       "      <td>234.38</td>\n",
       "      <td>240.50</td>\n",
       "      <td>233.27</td>\n",
       "      <td>238.52</td>\n",
       "      <td>5967406</td>\n",
       "    </tr>\n",
       "    <tr>\n",
       "      <th>1</th>\n",
       "      <td>5-Aug-14</td>\n",
       "      <td>237.47</td>\n",
       "      <td>242.99</td>\n",
       "      <td>235.69</td>\n",
       "      <td>238.49</td>\n",
       "      <td>5388581</td>\n",
       "    </tr>\n",
       "    <tr>\n",
       "      <th>2</th>\n",
       "      <td>6-Aug-14</td>\n",
       "      <td>238.90</td>\n",
       "      <td>251.42</td>\n",
       "      <td>238.58</td>\n",
       "      <td>248.93</td>\n",
       "      <td>9249265</td>\n",
       "    </tr>\n",
       "    <tr>\n",
       "      <th>3</th>\n",
       "      <td>7-Aug-14</td>\n",
       "      <td>250.12</td>\n",
       "      <td>256.69</td>\n",
       "      <td>249.12</td>\n",
       "      <td>252.39</td>\n",
       "      <td>7478926</td>\n",
       "    </tr>\n",
       "    <tr>\n",
       "      <th>4</th>\n",
       "      <td>8-Aug-14</td>\n",
       "      <td>251.16</td>\n",
       "      <td>251.76</td>\n",
       "      <td>246.50</td>\n",
       "      <td>248.13</td>\n",
       "      <td>5099061</td>\n",
       "    </tr>\n",
       "  </tbody>\n",
       "</table>\n",
       "</div>"
      ],
      "text/plain": [
       "       Date    Open    High     Low   Close   Volume\n",
       "0  4-Aug-14  234.38  240.50  233.27  238.52  5967406\n",
       "1  5-Aug-14  237.47  242.99  235.69  238.49  5388581\n",
       "2  6-Aug-14  238.90  251.42  238.58  248.93  9249265\n",
       "3  7-Aug-14  250.12  256.69  249.12  252.39  7478926\n",
       "4  8-Aug-14  251.16  251.76  246.50  248.13  5099061"
      ]
     },
     "execution_count": 4,
     "metadata": {},
     "output_type": "execute_result"
    }
   ],
   "source": [
    "# 資料共有六個資訊，日期、開盤、當日最高、當日最低、收盤、成交量\n",
    "tesla_stocks.head()"
   ]
  },
  {
   "cell_type": "markdown",
   "metadata": {},
   "source": [
    "## Step 1. Data preprocessing"
   ]
  },
  {
   "cell_type": "code",
   "execution_count": 5,
   "metadata": {},
   "outputs": [],
   "source": [
    "# 簡化預測複雜度，我們只使用收盤價預測\n",
    "data_to_use = tesla_stocks['Close'].values"
   ]
  },
  {
   "cell_type": "code",
   "execution_count": 6,
   "metadata": {},
   "outputs": [
    {
     "name": "stdout",
     "output_type": "stream",
     "text": [
      "Total number of days in the dataset: 756\n"
     ]
    }
   ],
   "source": [
    "# 資料共有756天成交紀錄\n",
    "print('Total number of days in the dataset: {}'.format(len(data_to_use)))"
   ]
  },
  {
   "cell_type": "markdown",
   "metadata": {},
   "source": [
    "### Step 1.1 Creating Training and Testing sets\n",
    "分割資料時，必須要在進行標準化之前進行分割。因為標準化會基於所有資料點調整資料分佈，但我們希望測試資料不會受到訓練資料的任何影響。\n",
    "\n",
    "#### Note: 在做資料處理之前先分割資料很重要，不要汙染測試集。"
   ]
  },
  {
   "cell_type": "code",
   "execution_count": 7,
   "metadata": {},
   "outputs": [],
   "source": [
    "data_to_use = tesla_stocks['Close'].values"
   ]
  },
  {
   "cell_type": "code",
   "execution_count": 8,
   "metadata": {},
   "outputs": [
    {
     "name": "stdout",
     "output_type": "stream",
     "text": [
      "Total number of days in the dataset: 756\n"
     ]
    }
   ],
   "source": [
    "print('Total number of days in the dataset: {}'.format(len(data_to_use)))"
   ]
  },
  {
   "cell_type": "markdown",
   "metadata": {},
   "source": [
    "### Step 1.2 Scaling data"
   ]
  },
  {
   "cell_type": "code",
   "execution_count": 9,
   "metadata": {},
   "outputs": [],
   "source": [
    "# 使用sklearn套件將資料標準化(mean = 0, std = 1)\n",
    "scaler = StandardScaler()"
   ]
  },
  {
   "cell_type": "code",
   "execution_count": 10,
   "metadata": {},
   "outputs": [],
   "source": [
    "scaled_dataset = scaler.fit_transform(data_to_use.reshape(-1, 1))"
   ]
  },
  {
   "cell_type": "code",
   "execution_count": 11,
   "metadata": {},
   "outputs": [
    {
     "data": {
      "image/png": "[encoded data removed]",
      "text/plain": [
       "<Figure size 864x504 with 1 Axes>"
      ]
     },
     "metadata": {},
     "output_type": "display_data"
    }
   ],
   "source": [
    "from pandas.plotting import register_matplotlib_converters\n",
    "register_matplotlib_converters()\n",
    "\n",
    "tesla_stocks.Date = pd.to_datetime(tesla_stocks.Date)\n",
    "plt.figure(figsize=(12, 7), frameon=False, facecolor='brown', edgecolor='blue')\n",
    "plt.title('Scaled TESLA stocks from August 2014 to August 2017')\n",
    "plt.xlabel('Days')\n",
    "plt.ylabel('Scaled value of stocks')\n",
    "plt.plot(tesla_stocks.Date, scaled_dataset, label='Stocks data')\n",
    "plt.legend()\n",
    "plt.show()"
   ]
  },
  {
   "cell_type": "code",
   "execution_count": 12,
   "metadata": {},
   "outputs": [
    {
     "data": {
      "image/png": "[encoded data removed]",
      "text/plain": [
       "<Figure size 864x504 with 1 Axes>"
      ]
     },
     "metadata": {},
     "output_type": "display_data"
    }
   ],
   "source": [
    "a = 0\n",
    "b = 14\n",
    "register_matplotlib_converters()\n",
    "\n",
    "tesla_stocks.Date = pd.to_datetime(tesla_stocks.Date)\n",
    "plt.figure(figsize=(12, 7), frameon=False, facecolor='brown', edgecolor='blue')\n",
    "plt.title('Scaled TESLA stocks for a range')\n",
    "plt.xlabel('Days')\n",
    "plt.ylabel('Scaled value of stocks')\n",
    "plt.plot(tesla_stocks.Date[a:b], scaled_dataset[a:b], label='Stocks data')\n",
    "plt.legend()\n",
    "plt.show()"
   ]
  },
  {
   "cell_type": "code",
   "execution_count": 13,
   "metadata": {},
   "outputs": [],
   "source": [
    "# import numpy as np  \n",
    "# import matplotlib.pyplot as plt\n",
    "# a = 9\n",
    "# for i in range(a**2):\n",
    "#     plt.subplot(a,a,i+1)  \n",
    "#     plt.tick_params(\n",
    "#     axis='both',          # changes apply to the x-axis\n",
    "#     which='both',      # both major and minor ticks are affected\n",
    "#     bottom=False,      # ticks along the bottom edge are off\n",
    "#     top=False,         # ticks along the top edge are off\n",
    "#     labelleft=False,  \n",
    "#     labelbottom=False) \n",
    "#     plt.plot(tesla_stocks.Date[7*(i):14+7*i], X[i], label = '')  \n",
    "\n"
   ]
  },
  {
   "cell_type": "code",
   "execution_count": null,
   "metadata": {},
   "outputs": [],
   "source": []
  },
  {
   "cell_type": "code",
   "execution_count": null,
   "metadata": {},
   "outputs": [],
   "source": []
  },
  {
   "cell_type": "code",
   "execution_count": null,
   "metadata": {},
   "outputs": [],
   "source": []
  },
  {
   "cell_type": "code",
   "execution_count": null,
   "metadata": {},
   "outputs": [],
   "source": []
  },
  {
   "cell_type": "markdown",
   "metadata": {},
   "source": [
    "### Step 1.3 define sliding window function "
   ]
  },
  {
   "cell_type": "code",
   "execution_count": 14,
   "metadata": {},
   "outputs": [],
   "source": [
    "# 抓取window_size-1的資料作為觀察資料(x), 下一天作為預測資料(y)\n",
    "\n",
    "\n",
    "def window_data(data, window_size, stride):\n",
    "    X = []\n",
    "    y = []\n",
    "    i = 0\n",
    "    while (i + window_size) <= len(data) - 1:\n",
    "        X.append(data[i:i+window_size])\n",
    "        y.append(data[i+window_size])\n",
    "        i += stride\n",
    "    X = np.array(X)\n",
    "    y = np.array(y)\n",
    "    assert len(X) == len(y)\n",
    "    return X, y"
   ]
  },
  {
   "cell_type": "code",
   "execution_count": 15,
   "metadata": {},
   "outputs": [],
   "source": [
    "window_size = 14\n",
    "stride = 1\n",
    "X, y = window_data(scaled_dataset, window_size, stride)"
   ]
  },
  {
   "cell_type": "code",
   "execution_count": 16,
   "metadata": {},
   "outputs": [
    {
     "name": "stdout",
     "output_type": "stream",
     "text": [
      "X_train size: (700, 14, 1)\n",
      "y_train size: (700, 1)\n",
      "X_test size: (42, 14, 1)\n",
      "y_test size: (42, 1)\n"
     ]
    }
   ],
   "source": [
    "# days = int(0.9*len(X))\n",
    "days = 700\n",
    "X_train = np.array(X[:days])\n",
    "y_train = np.array(y[:days])\n",
    "\n",
    "X_test = np.array(X[days:])\n",
    "y_test = np.array(y[days:])\n",
    "\n",
    "print(\"X_train size: {}\".format(X_train.shape))\n",
    "print(\"y_train size: {}\".format(y_train.shape))\n",
    "print(\"X_test size: {}\".format(X_test.shape))\n",
    "print(\"y_test size: {}\".format(y_test.shape))"
   ]
  },
  {
   "cell_type": "code",
   "execution_count": 17,
   "metadata": {},
   "outputs": [
    {
     "name": "stdout",
     "output_type": "stream",
     "text": [
      "(42, 14, 1)\n",
      "(700, 14, 1)\n"
     ]
    }
   ],
   "source": [
    "print(X_test.shape)\n",
    "print(X_train.shape)"
   ]
  },
  {
   "cell_type": "markdown",
   "metadata": {},
   "source": [
    "### 計算分數"
   ]
  },
  {
   "cell_type": "code",
   "execution_count": 18,
   "metadata": {},
   "outputs": [],
   "source": [
    "from sklearn.metrics import r2_score\n",
    "from sklearn.metrics import mean_squared_error as mse\n",
    "from sklearn.metrics import mean_absolute_error as mae\n",
    "def score(y_true, y_pred):\n",
    "# y_true = y_train\n",
    "# y_pred = clf.predict(X_train)\n",
    "    print('---')\n",
    "    print('R2, ', r2_score(y_true, y_pred))\n",
    "    print('mse, ', mse(y_true, y_pred))\n",
    "    print('mae, ', mae(y_true, y_pred))\n",
    "    print('rmse, ', mse(y_true, y_pred) ** 0.5)\n",
    "    print('---')"
   ]
  },
  {
   "cell_type": "code",
   "execution_count": 19,
   "metadata": {},
   "outputs": [],
   "source": []
  },
  {
   "cell_type": "markdown",
   "metadata": {},
   "source": [
    "## Model1: Zero-Rule model"
   ]
  },
  {
   "cell_type": "code",
   "execution_count": 20,
   "metadata": {},
   "outputs": [
    {
     "name": "stdout",
     "output_type": "stream",
     "text": [
      "train\n",
      "---\n",
      "R2,  0.0\n",
      "mse,  0.6230737216460739\n",
      "mae,  0.6222525420387317\n",
      "rmse,  0.789350189488844\n",
      "---\n",
      "test\n",
      "---\n",
      "R2,  -26.695887720394605\n",
      "mse,  7.993274659519818\n",
      "mae,  2.7757280020086172\n",
      "rmse,  2.827237991312337\n",
      "---\n"
     ]
    }
   ],
   "source": [
    "y_pred = [y_train.mean()]\n",
    "\n",
    "print('train')\n",
    "score(y_train, y_pred*len(y_train))\n",
    "print('test')\n",
    "score(y_test, y_pred*len(y_test))"
   ]
  },
  {
   "cell_type": "markdown",
   "metadata": {},
   "source": [
    "## Model2: Moving Average\n",
    "對每一個短序列取平均"
   ]
  },
  {
   "cell_type": "code",
   "execution_count": 21,
   "metadata": {},
   "outputs": [
    {
     "data": {
      "text/plain": [
       "(742, 14, 1)"
      ]
     },
     "execution_count": 21,
     "metadata": {},
     "output_type": "execute_result"
    }
   ],
   "source": [
    "Xm = np.concatenate((X_train, X_test), axis=0)\n",
    "Xm.shape"
   ]
  },
  {
   "cell_type": "code",
   "execution_count": 22,
   "metadata": {},
   "outputs": [
    {
     "data": {
      "text/plain": [
       "(735,)"
      ]
     },
     "execution_count": 22,
     "metadata": {},
     "output_type": "execute_result"
    }
   ],
   "source": [
    "def Moving_average(data, window_size, stride):\n",
    "    X = []\n",
    "    y = []\n",
    "    i = 0\n",
    "    while (i + window_size) <= len(data) - 1:\n",
    "        X.append(data[i:i+window_size].mean())\n",
    "#         y.append(data[i:i+window_size].mean())\n",
    "        i += stride\n",
    "    X = np.array(X)\n",
    "#     y = np.array(y)\n",
    "#     assert len(X) == len(y)\n",
    "    return X\n",
    "ym = Moving_average(Xm, 7, 1)\n",
    "ym.shape"
   ]
  },
  {
   "cell_type": "markdown",
   "metadata": {},
   "source": [
    "## Model3: Stacked LSTM"
   ]
  },
  {
   "cell_type": "code",
   "execution_count": 23,
   "metadata": {
    "scrolled": true
   },
   "outputs": [],
   "source": [
    "from tensorflow.keras.models import Sequential\n",
    "from tensorflow.keras.layers import Dense, Dropout, LSTM, Input\n",
    "from tensorflow.keras.layers import TimeDistributed, Flatten\n",
    "from tensorflow.keras.optimizers import Adam\n",
    "from tensorflow.keras.models import Model\n",
    "\n",
    "def LSTM_def():\n",
    "    print('lstm def...')\n",
    "    inputs = Input(shape=(window_size, 1))\n",
    "    lstm1 = LSTM(units=16*3, activation='relu', return_sequences=True)(inputs)\n",
    "    lstm2 = LSTM(units=16*3, activation='relu', return_sequences=False)(lstm1)\n",
    "    lstm2 = Dropout(0.2)(lstm2)\n",
    "    flat = Flatten()(lstm2)\n",
    "    outputs = Dense(units=1)(flat)\n",
    "\n",
    "    model = Model(name = 'StackedLSTM',inputs=inputs, outputs=outputs)\n",
    "\n",
    "#     model.summary()\n",
    "    return model\n",
    "def LSTM_train_score(X_train, y_train):\n",
    "    model = LSTM_def()\n",
    "    opt = Adam(lr=0.001, decay=1e-6, clipvalue=5)\n",
    "    model.compile(loss='mse', optimizer=opt, metrics=['mse'])\n",
    "    model.fit(X_train, y_train, epochs=100, verbose = False)\n",
    "    score(y_train, model.predict(X_train))\n",
    "    return model"
   ]
  },
  {
   "cell_type": "code",
   "execution_count": null,
   "metadata": {},
   "outputs": [],
   "source": []
  },
  {
   "cell_type": "markdown",
   "metadata": {},
   "source": [
    "## Model4: Conv1D"
   ]
  },
  {
   "cell_type": "code",
   "execution_count": 24,
   "metadata": {
    "scrolled": true
   },
   "outputs": [],
   "source": [
    "from tensorflow.keras.models import Sequential, Model\n",
    "from tensorflow.keras.layers import Input,Dense, Activation, Conv1D, Flatten\n",
    "import tensorflow.keras as keras\n",
    "def Conv1d_def():\n",
    "    print('conv1d def...')\n",
    "    model = Sequential()\n",
    "    # inputs = Input(shape=(window_size,))\n",
    "    model.add(Conv1D(input_shape=(window_size, 1), filters = 16, kernel_size=3, strides=1, \\\n",
    "                     activation='relu'))\n",
    "    model.add(Conv1D(filters = 16, kernel_size=3, strides=1, \\\n",
    "                     activation='relu'))\n",
    "    model.add(Flatten()) #由於前面兩個conv1D的Kerner size都是3，所以原本長度是7的資料會變成3，而channels為16，所以一起攤平變成48\n",
    "    model.add(Dense(1)) #輸出一個值\n",
    "#     print(model.input_shape) #可以把輸入的型態秀出來\n",
    "#     model.summary()\n",
    "    return model\n",
    "def Conv1d_train_score(X_train, y_train):\n",
    "    Conv1d = Conv1d_def()\n",
    "    opt = keras.optimizers.Adam(lr=0.001, decay=1e-6, clipvalue=5)\n",
    "\n",
    "    Conv1d.compile( loss='mse', optimizer=opt, metrics=['mse'] )\n",
    "    Conv1d.fit(X_train, y_train, epochs=100, verbose = False)\n",
    "    \n",
    "    y_pred=Conv1d.predict(X_train)\n",
    "    \n",
    "    score(y_train, y_pred)\n",
    "    return Conv1d\n"
   ]
  },
  {
   "cell_type": "markdown",
   "metadata": {},
   "source": [
    "## numpy squeeze\n",
    "後面的模型需要把資料降維"
   ]
  },
  {
   "cell_type": "code",
   "execution_count": 39,
   "metadata": {},
   "outputs": [],
   "source": [
    "# y_train.reshape(-1,1)\n",
    "y_train.shape\n",
    "# np.squeeze(y_train).shape\n",
    "y_train[:10]\n",
    "np.squeeze(y_train)[:10]\n",
    "X_train.shape\n",
    "np.squeeze(X_train).shape\n",
    "\n",
    "red_X_train = np.squeeze(X_train)\n",
    "red_y_train = np.squeeze(y_train)\n",
    "red_X_test = np.squeeze(X_test)\n",
    "red_y_test = np.squeeze(y_test)"
   ]
  },
  {
   "cell_type": "code",
   "execution_count": 40,
   "metadata": {},
   "outputs": [],
   "source": [
    "# red_X_train = pd.DataFrame(red_X_train)\n",
    "# red_X_train['pred'] = red_y_train\n",
    "# red_X_train.corr()"
   ]
  },
  {
   "cell_type": "code",
   "execution_count": 41,
   "metadata": {},
   "outputs": [],
   "source": [
    "# import seaborn as sns; sns.set()\n",
    "\n",
    "# ax = sns.heatmap(red_X_train.corr())"
   ]
  },
  {
   "cell_type": "markdown",
   "metadata": {},
   "source": [
    "### 單純猜前一天的收盤價"
   ]
  },
  {
   "cell_type": "code",
   "execution_count": 42,
   "metadata": {},
   "outputs": [],
   "source": [
    "# # y_train_pred = []\n",
    "# y_test_pred = []\n",
    "# for i in range(len(X_test)):\n",
    "#     y_test_pred.append(X_test[i][-1])\n",
    "\n",
    "# y_pred = np.array(y_test_pred)\n",
    "# score(y_test, y_pred)"
   ]
  },
  {
   "cell_type": "markdown",
   "metadata": {},
   "source": [
    "## Model5: XGBoost reg"
   ]
  },
  {
   "cell_type": "code",
   "execution_count": 43,
   "metadata": {},
   "outputs": [],
   "source": [
    "import xgboost as xgb\n",
    "\n",
    "def XGB_def():\n",
    "    print('xgb def...')\n",
    "    xgbreg = xgb.XGBRegressor(\n",
    "    #樹的個數\n",
    "    n_estimators=1000,\n",
    "    # 如同學習率\n",
    "    learning_rate= 0.3, \n",
    "    # 構建樹的深度，越大越容易過擬合    \n",
    "    max_depth=6, \n",
    "    # 隨機取樣訓練樣本 訓練例項的子取樣比\n",
    "    subsample=1, \n",
    "    # 用於控制是否後剪枝的引數,越大越保守，一般0.1、0.2這樣子\n",
    "    gamma=0, \n",
    "    # 控制模型複雜度的權重值的L2正則化項引數，引數越大，模型越不容易過擬合。\n",
    "    reg_lambda=1,  \n",
    "    #隨機種子\n",
    "    seed=1000, \n",
    "    # L1 正則項引數\n",
    "#        reg_alpha=0,\n",
    "    #設定成1則沒有執行資訊輸出，最好是設定為0.是否在執行升級時列印訊息。\n",
    "    silent=0 ,\n",
    "#     tree_method = 'gpu_hist', \n",
    "#     predictor = 'gpu_predictor',\n",
    "    eval_metric= 'mse',\n",
    "    objective = 'reg:squarederror'\n",
    "    )\n",
    "    \n",
    "    return xgbreg\n",
    "\n",
    "# 定義xgb\n",
    "def XGB_train_score(X_train, y_train):\n",
    "    # 定義模型\n",
    "    xgbreg = XGB_def()\n",
    "    \n",
    "    # 模型 訓練\n",
    "    xgbreg.fit(X_train,y_train,eval_metric='rmse')\n",
    "\n",
    "    # 預測值\n",
    "    y_pred=xgbreg.predict(X_train)\n",
    "\n",
    "    # 評估\n",
    "    score(y_train, y_pred)\n",
    "    return xgbreg"
   ]
  },
  {
   "cell_type": "code",
   "execution_count": 44,
   "metadata": {},
   "outputs": [
    {
     "name": "stdout",
     "output_type": "stream",
     "text": [
      "xgb def...\n",
      "---\n",
      "R2,  0.9999976821996309\n",
      "mse,  1.4441605019809127e-06\n",
      "mae,  0.0008410994301076246\n",
      "rmse,  0.001201732292143684\n",
      "---\n"
     ]
    },
    {
     "data": {
      "text/plain": [
       "XGBRegressor(base_score=0.5, booster='gbtree', colsample_bylevel=1,\n",
       "             colsample_bynode=1, colsample_bytree=1, eval_metric='mse', gamma=0,\n",
       "             importance_type='gain', learning_rate=0.3, max_delta_step=0,\n",
       "             max_depth=6, min_child_weight=1, missing=None, n_estimators=1000,\n",
       "             n_jobs=1, nthread=None, objective='reg:squarederror',\n",
       "             random_state=0, reg_alpha=0, reg_lambda=1, scale_pos_weight=1,\n",
       "             seed=1000, silent=0, subsample=1, verbosity=1)"
      ]
     },
     "execution_count": 44,
     "metadata": {},
     "output_type": "execute_result"
    }
   ],
   "source": [
    "XGB_train_score(red_X_train, red_y_train)"
   ]
  },
  {
   "cell_type": "code",
   "execution_count": 45,
   "metadata": {},
   "outputs": [],
   "source": [
    "def metric_model(func, X_train, y_train, X_test, y_test):\n",
    "    model = func(X_train, y_train)\n",
    "    print('y_test')\n",
    "    score(y_test, model.predict(X_test))\n",
    "    return model\n",
    "# metric_model(XGB_train_score, red_X_train, red_y_train, red_X_test, red_y_test)"
   ]
  },
  {
   "cell_type": "markdown",
   "metadata": {},
   "source": [
    "## Step 3. Plotting predictions from the network"
   ]
  },
  {
   "cell_type": "code",
   "execution_count": 46,
   "metadata": {},
   "outputs": [],
   "source": [
    "def encode_data2plot(model, X_train, X_test):\n",
    "    # Training set預測結果\n",
    "    training_set_pred = np.array([])\n",
    "\n",
    "    training_set_pred = model.predict(X_train)\n",
    "\n",
    "    # Testing set預測結果\n",
    "    testing_set_pred = model.predict(X_test)\n",
    "    \n",
    "    # 把資料放到list裡面準備畫圖\n",
    "    # 因為我們是用前七天預測第8天股價，故前七天設為None\n",
    "    training = [None]*window_size\n",
    "    for i in range(len(X_train)):\n",
    "        training.append(training_set_pred[i])\n",
    "\n",
    "    testing = [None] * (window_size + len(X_train))\n",
    "    testing_loss = 0\n",
    "    for i in range(len(X_test)):\n",
    "        testing.append(testing_set_pred[i])\n",
    "        training.append(None)\n",
    "#         testing_loss += (testing_set_pred[i] - y_test[i])**2\n",
    "#     print('testing_loss:', testing_loss / len(X_test))\n",
    "    return training, testing"
   ]
  },
  {
   "cell_type": "code",
   "execution_count": null,
   "metadata": {},
   "outputs": [],
   "source": []
  },
  {
   "cell_type": "code",
   "execution_count": null,
   "metadata": {},
   "outputs": [],
   "source": []
  },
  {
   "cell_type": "code",
   "execution_count": 47,
   "metadata": {},
   "outputs": [],
   "source": [
    "# # Training set預測結果\n",
    "# training_set_pred = np.array([])\n",
    "\n",
    "# training_set_pred = conv1d.predict(X_train)\n",
    "\n",
    "# # Testing set預測結果\n",
    "\n",
    "# testing_set_pred = conv1d.predict(X_test)"
   ]
  },
  {
   "cell_type": "code",
   "execution_count": 48,
   "metadata": {},
   "outputs": [],
   "source": [
    "# # 把資料放到list裡面準備畫圖\n",
    "# # 因為我們是用前七天預測第8天股價，故前七天設為None\n",
    "# training = [None]*window_size\n",
    "# for i in range(len(X_train)):\n",
    "#     training.append(training_set_pred[i])\n",
    "    \n",
    "# testing = [None] * (window_size + len(X_train))\n",
    "# testing_loss = 0\n",
    "# for i in range(len(X_test)):\n",
    "#     testing.append(testing_set_pred[i])\n",
    "#     training.append(None)\n",
    "#     testing_loss += (testing_set_pred[i] - y_test[i])**2\n",
    "# print('testing_loss:', testing_loss / len(X_test))"
   ]
  },
  {
   "cell_type": "code",
   "execution_count": 49,
   "metadata": {},
   "outputs": [],
   "source": [
    "Zero_y_pred = [y_train.mean()]*len(scaled_dataset)"
   ]
  },
  {
   "cell_type": "code",
   "execution_count": 50,
   "metadata": {},
   "outputs": [],
   "source": [
    "# mvAve = Moving_average(Xm, 7, 1)\n",
    "# len(scaled_dataset)"
   ]
  },
  {
   "cell_type": "code",
   "execution_count": 51,
   "metadata": {},
   "outputs": [],
   "source": [
    "# training = xgbreg.predict(red_X_train)\n",
    "# print(training.shape)\n",
    "# testing = xgbreg.predict(red_X_test)\n",
    "# print(testing.shape)"
   ]
  },
  {
   "cell_type": "markdown",
   "metadata": {},
   "source": [
    "### plot dataset"
   ]
  },
  {
   "cell_type": "code",
   "execution_count": 52,
   "metadata": {},
   "outputs": [
    {
     "name": "stdout",
     "output_type": "stream",
     "text": [
      "xgb def...\n",
      "---\n",
      "R2,  0.9999976821996309\n",
      "mse,  1.4441605019809127e-06\n",
      "mae,  0.0008410994301076246\n",
      "rmse,  0.001201732292143684\n",
      "---\n",
      "y_test\n",
      "---\n",
      "R2,  -0.6314173554124005\n",
      "mse,  0.4708412720967292\n",
      "mae,  0.5477936767386078\n",
      "rmse,  0.6861787464624135\n",
      "---\n"
     ]
    },
    {
     "data": {
      "image/png": "[encoded data removed]",
      "text/plain": [
       "<Figure size 1152x504 with 1 Axes>"
      ]
     },
     "metadata": {},
     "output_type": "display_data"
    }
   ],
   "source": [
    "plt.figure(figsize=(16, 7))\n",
    "plt.plot(tesla_stocks.Date, scaled_dataset, label='Original data')\n",
    "# plt.plot(tesla_stocks.Date, Zero_y_pred, label='Zero Rule predict on all data')\n",
    "# plt.plot(tesla_stocks.Date[14:-7], mvAve, label='Moving_average predict on all data')\n",
    "\n",
    "\n",
    "if enable_model_list['lstm']:\n",
    "    model = metric_model(LSTM_train_score, X_train, y_train, X_test, y_test)\n",
    "    training, testing = encode_data2plot(model, X_train, X_test)\n",
    "    plt.plot(tesla_stocks.Date, training, label='lstm Predict on Training data')\n",
    "    plt.plot(tesla_stocks.Date, testing, label='lstm Predict on Testing data')\n",
    "    \n",
    "if enable_model_list['conv1d']:\n",
    "    model = metric_model(Conv1d_train_score, X_train, y_train, X_test, y_test)\n",
    "    training, testing = encode_data2plot(model, X_train, X_test)\n",
    "    plt.plot(tesla_stocks.Date, training, label='conv1d Predict on Training data')\n",
    "    plt.plot(tesla_stocks.Date, testing, label='conv1d Predict on Testing data')\n",
    "\n",
    "\n",
    "if enable_model_list['xgb']:\n",
    "    model = metric_model(XGB_train_score, red_X_train, red_y_train, red_X_test, red_y_test)\n",
    "    training, testing = encode_data2plot(model, red_X_train, red_X_test)\n",
    "    plt.plot(tesla_stocks.Date, training, label='xgb Predict on Training data')\n",
    "    plt.plot(tesla_stocks.Date, testing, label='xgb Predict on Testing data')\n",
    "    \n",
    "\n",
    "plt.legend()\n",
    "plt.show()"
   ]
  },
  {
   "cell_type": "markdown",
   "metadata": {},
   "source": [
    "## Practice\n",
    "1. 把Open、High、Low、Close跟Volume都當Feature"
   ]
  },
  {
   "cell_type": "code",
   "execution_count": null,
   "metadata": {},
   "outputs": [],
   "source": []
  },
  {
   "cell_type": "code",
   "execution_count": null,
   "metadata": {},
   "outputs": [],
   "source": []
  },
  {
   "cell_type": "code",
   "execution_count": null,
   "metadata": {},
   "outputs": [],
   "source": []
  }
 ],
 "metadata": {
  "anaconda-cloud": {},
  "kernelspec": {
   "display_name": "Python 3",
   "language": "python",
   "name": "python3"
  },
  "language_info": {
   "codemirror_mode": {
    "name": "ipython",
    "version": 3
   },
   "file_extension": ".py",
   "mimetype": "text/x-python",
   "name": "python",
   "nbconvert_exporter": "python",
   "pygments_lexer": "ipython3",
   "version": "3.7.3"
  }
 },
 "nbformat": 4,
 "nbformat_minor": 4
}
